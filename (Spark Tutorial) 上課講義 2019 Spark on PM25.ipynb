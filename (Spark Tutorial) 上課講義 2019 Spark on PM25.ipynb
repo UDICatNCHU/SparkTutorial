{
  "cells": [
    {
      "cell_type": "markdown",
      "metadata": {
        "colab_type": "text",
        "id": "view-in-github"
      },
      "source": [
        "<a href=\"https://colab.research.google.com/github/UDICatNCHU/SparkTutorial/blob/master/(Spark%20Tutorial)%20%E4%B8%8A%E8%AA%B2%E8%AC%9B%E7%BE%A9%202019%20Spark%20on%20PM25.ipynb\" target=\"_parent\"><img src=\"https://colab.research.google.com/assets/colab-badge.svg\" alt=\"Open In Colab\"/></a>"
      ]
    },
    {
      "cell_type": "code",
      "execution_count": 5,
      "metadata": {
        "id": "JjpVj8Ne_p6R"
      },
      "outputs": [],
      "source": []
    },
    {
      "cell_type": "code",
      "execution_count": 6,
      "metadata": {
        "colab": {
          "base_uri": "https://localhost:8080/"
        },
        "id": "yZX_HQWt68dR",
        "outputId": "3ad5de31-00bd-40bb-953e-fe4f97bd8303"
      },
      "outputs": [
        {
          "name": "stdout",
          "output_type": "stream",
          "text": [
            "--2021-11-23 01:26:06--  https://www.dropbox.com/s/cce2nnozquh8twz/init_env%20spark%203.0.1.sh?dl=0\n",
            "Resolving www.dropbox.com (www.dropbox.com)... 162.125.6.18, 2620:100:601d:18::a27d:512\n",
            "Connecting to www.dropbox.com (www.dropbox.com)|162.125.6.18|:443... connected.\n",
            "HTTP request sent, awaiting response... 301 Moved Permanently\n",
            "Location: /s/raw/cce2nnozquh8twz/init_env%20spark%203.0.1.sh [following]\n",
            "--2021-11-23 01:26:06--  https://www.dropbox.com/s/raw/cce2nnozquh8twz/init_env%20spark%203.0.1.sh\n",
            "Reusing existing connection to www.dropbox.com:443.\n",
            "HTTP request sent, awaiting response... 302 Found\n",
            "Location: https://ucdc22402a8ab99f1ac888da2dc9.dl.dropboxusercontent.com/cd/0/inline/BadtQ3NM0l3MITnP9zH_1tH1LzzpG76Gcq5hZNf_cUirX9XlKo6VkHnCtW_SawRPZvDWK7zauwEIVjNID9eZkzlpN4OqAb8f8nG3gyoq833RhrAvoQZ4G9YEI_vQyXdmJVB1TQ_IvX9XgMkOWEC93Fg8/file# [following]\n",
            "--2021-11-23 01:26:07--  https://ucdc22402a8ab99f1ac888da2dc9.dl.dropboxusercontent.com/cd/0/inline/BadtQ3NM0l3MITnP9zH_1tH1LzzpG76Gcq5hZNf_cUirX9XlKo6VkHnCtW_SawRPZvDWK7zauwEIVjNID9eZkzlpN4OqAb8f8nG3gyoq833RhrAvoQZ4G9YEI_vQyXdmJVB1TQ_IvX9XgMkOWEC93Fg8/file\n",
            "Resolving ucdc22402a8ab99f1ac888da2dc9.dl.dropboxusercontent.com (ucdc22402a8ab99f1ac888da2dc9.dl.dropboxusercontent.com)... 162.125.6.15, 2620:100:601d:15::a27d:50f\n",
            "Connecting to ucdc22402a8ab99f1ac888da2dc9.dl.dropboxusercontent.com (ucdc22402a8ab99f1ac888da2dc9.dl.dropboxusercontent.com)|162.125.6.15|:443... connected.\n",
            "HTTP request sent, awaiting response... 200 OK\n",
            "Length: 341 [text/plain]\n",
            "Saving to: ‘init_env.sh’\n",
            "\n",
            "init_env.sh         100%[===================>]     341  --.-KB/s    in 0s      \n",
            "\n",
            "2021-11-23 01:26:07 (67.2 MB/s) - ‘init_env.sh’ saved [341/341]\n",
            "\n",
            "環境初始化完畢\n"
          ]
        }
      ],
      "source": [
        "# 環境初始化 (大約三至五分鐘)\n",
        "! wget -O init_env.sh https://www.dropbox.com/s/cce2nnozquh8twz/init_env%20spark%203.1.1.sh?dl=0 && \\\n",
        "bash init_env.sh"
      ]
    },
    {
      "cell_type": "code",
      "execution_count": 7,
      "metadata": {
        "id": "ky97pnWo7EBr"
      },
      "outputs": [],
      "source": [
        "import os, sys\n",
        "os.environ['SPARK_HOME'] = \"/usr/local/spark\"\n",
        "os.environ['PYSPARK_PYTHON'] = \"/usr/local/bin/python\"\n",
        "sys.path.append(\"/usr/local/spark/python/\")\n",
        "sys.path.append(\"/usr/local/spark/python/lib/pyspark.zip\")\n",
        "sys.path.append(\"/usr/local/spark/python/lib/py4j-0.10.9-src.zip\")"
      ]
    },
    {
      "cell_type": "code",
      "execution_count": 9,
      "metadata": {
        "colab": {
          "base_uri": "https://localhost:8080/",
          "height": 253
        },
        "id": "I1kaE7kK7PRF",
        "outputId": "4705cba3-30fc-4243-bf38-5fe88dcb24a4"
      },
      "outputs": [
        {
          "ename": "ValueError",
          "evalue": "ignored",
          "output_type": "error",
          "traceback": [
            "\u001b[0;31m---------------------------------------------------------------------------\u001b[0m",
            "\u001b[0;31mValueError\u001b[0m                                Traceback (most recent call last)",
            "\u001b[0;32m<ipython-input-9-6a58bf71167f>\u001b[0m in \u001b[0;36m<module>\u001b[0;34m()\u001b[0m\n\u001b[1;32m      1\u001b[0m \u001b[0;32mfrom\u001b[0m \u001b[0mpyspark\u001b[0m \u001b[0;32mimport\u001b[0m \u001b[0mSparkContext\u001b[0m\u001b[0;34m\u001b[0m\u001b[0;34m\u001b[0m\u001b[0m\n\u001b[1;32m      2\u001b[0m \u001b[0;32mfrom\u001b[0m \u001b[0mpyspark\u001b[0m \u001b[0;32mimport\u001b[0m \u001b[0mSparkConf\u001b[0m\u001b[0;34m\u001b[0m\u001b[0;34m\u001b[0m\u001b[0m\n\u001b[0;32m----> 3\u001b[0;31m \u001b[0msc\u001b[0m \u001b[0;34m=\u001b[0m\u001b[0mSparkContext\u001b[0m\u001b[0;34m(\u001b[0m\u001b[0;34m)\u001b[0m\u001b[0;34m\u001b[0m\u001b[0;34m\u001b[0m\u001b[0m\n\u001b[0m",
            "\u001b[0;32m/usr/local/spark/python/pyspark/context.py\u001b[0m in \u001b[0;36m__init__\u001b[0;34m(self, master, appName, sparkHome, pyFiles, environment, batchSize, serializer, conf, gateway, jsc, profiler_cls)\u001b[0m\n\u001b[1;32m    131\u001b[0m                 \" is not allowed as it is a security risk.\")\n\u001b[1;32m    132\u001b[0m \u001b[0;34m\u001b[0m\u001b[0m\n\u001b[0;32m--> 133\u001b[0;31m         \u001b[0mSparkContext\u001b[0m\u001b[0;34m.\u001b[0m\u001b[0m_ensure_initialized\u001b[0m\u001b[0;34m(\u001b[0m\u001b[0mself\u001b[0m\u001b[0;34m,\u001b[0m \u001b[0mgateway\u001b[0m\u001b[0;34m=\u001b[0m\u001b[0mgateway\u001b[0m\u001b[0;34m,\u001b[0m \u001b[0mconf\u001b[0m\u001b[0;34m=\u001b[0m\u001b[0mconf\u001b[0m\u001b[0;34m)\u001b[0m\u001b[0;34m\u001b[0m\u001b[0;34m\u001b[0m\u001b[0m\n\u001b[0m\u001b[1;32m    134\u001b[0m         \u001b[0;32mtry\u001b[0m\u001b[0;34m:\u001b[0m\u001b[0;34m\u001b[0m\u001b[0;34m\u001b[0m\u001b[0m\n\u001b[1;32m    135\u001b[0m             self._do_init(master, appName, sparkHome, pyFiles, environment, batchSize, serializer,\n",
            "\u001b[0;32m/usr/local/spark/python/pyspark/context.py\u001b[0m in \u001b[0;36m_ensure_initialized\u001b[0;34m(cls, instance, gateway, conf)\u001b[0m\n\u001b[1;32m    341\u001b[0m                         \u001b[0;34m\" created by %s at %s:%s \"\u001b[0m\u001b[0;34m\u001b[0m\u001b[0;34m\u001b[0m\u001b[0m\n\u001b[1;32m    342\u001b[0m                         % (currentAppName, currentMaster,\n\u001b[0;32m--> 343\u001b[0;31m                             callsite.function, callsite.file, callsite.linenum))\n\u001b[0m\u001b[1;32m    344\u001b[0m                 \u001b[0;32melse\u001b[0m\u001b[0;34m:\u001b[0m\u001b[0;34m\u001b[0m\u001b[0;34m\u001b[0m\u001b[0m\n\u001b[1;32m    345\u001b[0m                     \u001b[0mSparkContext\u001b[0m\u001b[0;34m.\u001b[0m\u001b[0m_active_spark_context\u001b[0m \u001b[0;34m=\u001b[0m \u001b[0minstance\u001b[0m\u001b[0;34m\u001b[0m\u001b[0;34m\u001b[0m\u001b[0m\n",
            "\u001b[0;31mValueError\u001b[0m: Cannot run multiple SparkContexts at once; existing SparkContext(app=pyspark-shell, master=local[*]) created by __init__ at <ipython-input-5-6a58bf71167f>:3 "
          ]
        }
      ],
      "source": [
        "from pyspark import SparkContext\n",
        "from pyspark import SparkConf\n",
        "sc =SparkContext()"
      ]
    },
    {
      "cell_type": "markdown",
      "metadata": {
        "id": "ltQpoNZY6bv6"
      },
      "source": [
        "# 利用Spark 分析台灣2015 PM2.5資料集"
      ]
    },
    {
      "cell_type": "markdown",
      "metadata": {
        "id": "zbWZ0dIo6bv7"
      },
      "source": [
        "<a id=\"load_data\"></a>\n",
        "## 上傳台灣2015一整年空氣監測資料 "
      ]
    },
    {
      "cell_type": "markdown",
      "metadata": {
        "id": "C1qgJDsb6bv8"
      },
      "source": [
        "### 步驟1: 將2015空氣監控資料，上傳至colab"
      ]
    },
    {
      "cell_type": "code",
      "execution_count": 10,
      "metadata": {
        "colab": {
          "base_uri": "https://localhost:8080/"
        },
        "id": "SVXc7N-P6bv8",
        "outputId": "52699900-f3c1-4196-f259-e9062fce20f2"
      },
      "outputs": [
        {
          "name": "stdout",
          "output_type": "stream",
          "text": [
            "--2021-11-23 01:26:25--  https://www.dropbox.com/s/zkn3ba7pitv83el/pm2.5Taiwan.csv?dl=0\n",
            "Resolving www.dropbox.com (www.dropbox.com)... 162.125.6.18, 2620:100:6019:18::a27d:412\n",
            "Connecting to www.dropbox.com (www.dropbox.com)|162.125.6.18|:443... connected.\n",
            "HTTP request sent, awaiting response... 301 Moved Permanently\n",
            "Location: /s/raw/zkn3ba7pitv83el/pm2.5Taiwan.csv [following]\n",
            "--2021-11-23 01:26:25--  https://www.dropbox.com/s/raw/zkn3ba7pitv83el/pm2.5Taiwan.csv\n",
            "Reusing existing connection to www.dropbox.com:443.\n",
            "HTTP request sent, awaiting response... 302 Found\n",
            "Location: https://uc48c3c51e7ddac74ab12e3ca364.dl.dropboxusercontent.com/cd/0/inline/Bae7-qCBeI-QvddcKHC8MsE3W0OzCDrIBZT4t11RvtNO-p_MyZIph3P0aRwQwAKx9Kxo6-ByD8336slKtkphOYgdiZ08eyZ3WG7wYMC7YgoU7P_BEJHtC6cK3yc614GAjAnM6EygF_vpUh-8Vj0oVdwF/file# [following]\n",
            "--2021-11-23 01:26:26--  https://uc48c3c51e7ddac74ab12e3ca364.dl.dropboxusercontent.com/cd/0/inline/Bae7-qCBeI-QvddcKHC8MsE3W0OzCDrIBZT4t11RvtNO-p_MyZIph3P0aRwQwAKx9Kxo6-ByD8336slKtkphOYgdiZ08eyZ3WG7wYMC7YgoU7P_BEJHtC6cK3yc614GAjAnM6EygF_vpUh-8Vj0oVdwF/file\n",
            "Resolving uc48c3c51e7ddac74ab12e3ca364.dl.dropboxusercontent.com (uc48c3c51e7ddac74ab12e3ca364.dl.dropboxusercontent.com)... 162.125.6.15, 2620:100:6019:15::a27d:40f\n",
            "Connecting to uc48c3c51e7ddac74ab12e3ca364.dl.dropboxusercontent.com (uc48c3c51e7ddac74ab12e3ca364.dl.dropboxusercontent.com)|162.125.6.15|:443... connected.\n",
            "HTTP request sent, awaiting response... 200 OK\n",
            "Length: 50453822 (48M) [text/plain]\n",
            "Saving to: ‘pm25.csv’\n",
            "\n",
            "pm25.csv            100%[===================>]  48.12M   164MB/s    in 0.3s    \n",
            "\n",
            "2021-11-23 01:26:26 (164 MB/s) - ‘pm25.csv’ saved [50453822/50453822]\n",
            "\n"
          ]
        }
      ],
      "source": [
        "!wget -O pm25.csv \"https://www.dropbox.com/s/zkn3ba7pitv83el/pm2.5Taiwan.csv?dl=0\""
      ]
    },
    {
      "cell_type": "code",
      "execution_count": 11,
      "metadata": {
        "colab": {
          "base_uri": "https://localhost:8080/"
        },
        "id": "bYAxfnu1SkXO",
        "outputId": "e5a87252-531e-4309-c58c-c033dceae799"
      },
      "outputs": [
        {
          "name": "stdout",
          "output_type": "stream",
          "text": [
            "init_env.sh  pm25.csv  sample_data  spark-3.0.3-bin-hadoop2.7.tgz\n"
          ]
        }
      ],
      "source": [
        "!ls"
      ]
    },
    {
      "cell_type": "code",
      "execution_count": 12,
      "metadata": {
        "id": "Y8u7Bxqi6bwF"
      },
      "outputs": [],
      "source": [
        "weather = sc.textFile(\"./pm25.csv\")"
      ]
    },
    {
      "cell_type": "markdown",
      "metadata": {
        "id": "aMVBdYNO6bwH"
      },
      "source": [
        "### 步驟2: 試試看是否成功上傳  (使用count( ), first( ), collect( ), take( ) )"
      ]
    },
    {
      "cell_type": "code",
      "execution_count": 13,
      "metadata": {
        "colab": {
          "base_uri": "https://localhost:8080/",
          "height": 35
        },
        "id": "QeiPKyGe6bwH",
        "outputId": "9de0126f-7567-46cb-cd84-4797ef994c53"
      },
      "outputs": [
        {
          "data": {
            "application/vnd.google.colaboratory.intrinsic+json": {
              "type": "string"
            },
            "text/plain": [
              "'日期,測站,測項,00,01,02,03,04,05,06,07,08,09,10,11,12,13,14,15,16,17,18,19,20,21,22,23'"
            ]
          },
          "execution_count": 13,
          "metadata": {},
          "output_type": "execute_result"
        }
      ],
      "source": [
        "weather.count()\n",
        "weather.first()"
      ]
    },
    {
      "cell_type": "code",
      "execution_count": 14,
      "metadata": {
        "colab": {
          "base_uri": "https://localhost:8080/"
        },
        "id": "-6xuyI9R6bwL",
        "outputId": "9a0a4e78-55bc-47af-aca6-8a78b347a096"
      },
      "outputs": [
        {
          "data": {
            "text/plain": [
              "['日期,測站,測項,00,01,02,03,04,05,06,07,08,09,10,11,12,13,14,15,16,17,18,19,20,21,22,23',\n",
              " '2015/01/01,龍潭,AMB_TEMP,14,14,14,13,13,13,12,12,13,14,14,14,14,14,13,13,12,11,11,11,11,11,11,11',\n",
              " '2015/01/01,龍潭,CO,0.69,0.72,0.69,0.64,0.54,0.47,0.45,0.48,0.51,0.54,0.54,0.5,0.47,0.38,0.36,0.35,0.34,0.37,0.34,0.29,0.26,0.22,0.19,0.18',\n",
              " '2015/01/01,龍潭,NO,0.3,0.1,0.6,2,2,1.9,2.2,3.1,3.7,4.3,4.3,4.5,3.3,4.1,3.1,3.6,3.6,2.8,2.8,2.5,2.2,1.4,2.1,2',\n",
              " '2015/01/01,龍潭,NO2,11,9.6,8.7,9.1,9.6,9.9,11,13,11,12,12,11,11,9.9,9.9,10,11,13,11,10,8.2,7.3,6.5,5.5']"
            ]
          },
          "execution_count": 14,
          "metadata": {},
          "output_type": "execute_result"
        }
      ],
      "source": [
        "weather.take(5)"
      ]
    },
    {
      "cell_type": "markdown",
      "metadata": {
        "id": "6lZMZ1m06bwO"
      },
      "source": [
        "# 練習1: 讓我們求取2015年，大里每小時的平均pm25數值。\n",
        "## 注意事項：\n",
        "1. 資料分割：原始資料每一行為一個觀測值，我們必須將資料進行分割，才能逐一計算與進行操作。\n",
        "2. 資料清洗：在氣象局的原始資料裡，有些數值由於當初偵測時有異常，所以會加註特別符號如\\*\\#等特殊符號，這些數值我們必須先經過前處理，我們才能進行算術運算。\n",
        "3. 資料選擇：將大里資料挑選出來\n",
        "4. 產生key-value，也就是(小時,pm25值)\n",
        "5. 利用flatMap(), reduceByKey(), groupByKey()，將不同日期但相同時間的pm25值收集起來。\n",
        "6. 計算平均值, 標準差, 最大最小值。\n"
      ]
    },
    {
      "cell_type": "markdown",
      "metadata": {
        "id": "A7aedWEz6bwO"
      },
      "source": [
        "### 步驟一：資料分割 (使用map () 與 split( ))"
      ]
    },
    {
      "cell_type": "code",
      "execution_count": 15,
      "metadata": {
        "colab": {
          "base_uri": "https://localhost:8080/"
        },
        "id": "_DDuC6At6bwP",
        "outputId": "6f359cfb-2733-4312-c657-a7bf0574b33d"
      },
      "outputs": [
        {
          "name": "stdout",
          "output_type": "stream",
          "text": [
            "['日期', '測站', '測項', '00', '01', '02', '03', '04', '05', '06', '07', '08', '09', '10', '11', '12', '13', '14', '15', '16', '17', '18', '19', '20', '21', '22', '23']\n"
          ]
        }
      ],
      "source": [
        "weatherParse = weather.map(lambda line : line.split(\",\"))\n",
        "print(weatherParse.first())"
      ]
    },
    {
      "cell_type": "markdown",
      "metadata": {
        "id": "CB_BMIXf6bwR"
      },
      "source": [
        "### 步驟二：將大里站資料從全部資料集中挑選出來 (filter)"
      ]
    },
    {
      "cell_type": "markdown",
      "metadata": {
        "id": "P-np2VJz6bwR"
      },
      "source": [
        "須留意unicode與string的差別,  u'大里'"
      ]
    },
    {
      "cell_type": "code",
      "execution_count": 16,
      "metadata": {
        "colab": {
          "base_uri": "https://localhost:8080/"
        },
        "id": "PwzyA92o6bwS",
        "outputId": "13614b4e-e1ad-4d32-995f-4327ec2c7985"
      },
      "outputs": [
        {
          "name": "stdout",
          "output_type": "stream",
          "text": [
            "[['2015/01/01', '大里', 'PM2.5', '53', '55', '58', '53', '43', '36', '35', '42', '55', '64', '65', '59', '52', '44', '47', '41', '43', '40', '42', '35', '28', '20', '18', '16'], ['2015/01/02', '大里', 'PM2.5', '21', '22', '26', '23', '20', '18', '15', '21', '21', '25', '29', '32', '34', '29', '32', '39', '51', '51', '47', '43', '43', '48', '47', '53'], ['2015/01/03', '大里', 'PM2.5', '48', '48', '43', '38', '37', '36', '37', '34', '37', '46', '64', '77', '83', '75', '68', '69', '64', '65', '59', '66', '71', '66', '57', '48'], ['2015/01/04', '大里', 'PM2.5', '60', '56', '53', '43', '53', '53', '52', '44', '44', '50', '49', '51', '45', '42', '40', '38', '36', '43', '51', '63', '68', '72', '66', '58'], ['2015/01/05', '大里', 'PM2.5', '48', '42', '42', '34', '34', '28', '34', '35', '45', '47', '54', '46', '35', '19', '16', '21', '24', '28', '37', '52', '60', '62', '64', '61'], ['2015/01/06', '大里', 'PM2.5', '59', '40', '34', '25', '27', '29', '26', '33', '42', '47', '38', '24', '14', '8', '17', '30', '51', '62', '68', '83', '83', '96', '103', '110'], ['2015/01/07', '大里', 'PM2.5', '117', '110', '97', '68', '47', '39', '34', '27', '22', '15', '14', '', '23', '18', '16', '12', '10', '6', '5', '9', '15', '21', '23', '15'], ['2015/01/08', '大里', 'PM2.5', '7', '9', '13', '18', '11', '12', '17', '29', '34', '39', '41', '46', '46', '44', '43', '39', '41', '46', '47', '48', '47', '47', '43', '33'], ['2015/01/09', '大里', 'PM2.5', '35', '34', '37', '30', '25', '25', '22', '21', '18', '20', '14', '12', '21', '31', '44', '46', '52', '44', '39', '37', '43', '43', '42', '39'], ['2015/01/10', '大里', 'PM2.5', '38', '33', '31', '24', '20', '19', '22', '31', '31', '45', '48', '49', '38', '39', '43', '46', '43', '36', '33', '29', '37', '34', '39', '33'], ['2015/01/11', '大里', 'PM2.5', '37', '41', '43', '43', '27', '22', '26', '34', '39', '37', '51', '53', '61', '56', '48', '43', '37', '43', '43', '48', '54', '51', '46', '35'], ['2015/01/12', '大里', 'PM2.5', '36', '40', '33', '32', '33', '40', '37', '34', '39', '53', '60', '65', '57', '50', '52', '51', '43', '24', '20', '28', '35', '40', '30', '36'], ['2015/01/13', '大里', 'PM2.5', '36', '36', '32', '33', '38', '45', '38', '45', '45', '76', '84', '96', '92', '87', '64', '33', '21', '22', '20', '15', '7', '12', '9', '11'], ['2015/01/14', '大里', 'PM2.5', '10', '7', '3', '0', '3', '7', '5', '1', '0', '0', '0', '0', '0', '0', '4', '12', '13', '10', '12', '14', '21', '19', '15', '8'], ['2015/01/15', '大里', 'PM2.5', '2', '3', '7', '3', '7', '5', '10', '7', '13', '16', '14', '8', '5', '13', '20', '30', '30', '33', '28', '29', '33', '26', '23', '12'], ['2015/01/16', '大里', 'PM2.5', '16', '15', '17', '16', '16', '13', '5', '10', '14', '30', '30', '25', '-4#', '22', '23', '30', '33', '40', '43', '45', '37', '34', '38', '43'], ['2015/01/17', '大里', 'PM2.5', '42', '33', '25', '18', '13', '9', '12', '20', '28', '33', '33', '43', '52', '55', '57', '60', '66', '77', '76', '76', '77', '74', '82', '75'], ['2015/01/18', '大里', 'PM2.5', '77', '66', '61', '62', '70', '71', '69', '71', '75', '82', '90', '94', '88', '75', '57', '47', '33', '31', '25', '21', '16', '16', '18', '16'], ['2015/01/19', '大里', 'PM2.5', '14', '14', '19', '18', '16', '7', '6', '12', '18', '30', '26', '28', '31', '32', '35', '37', '41', '43', '42', '50', '53', '54', '57', '62'], ['2015/01/20', '大里', 'PM2.5', '62', '57', '52', '53', '61', '62', '62', '65', '73', '82', '83', '88', '83', '81', '73', '71', '69', '71', '66', '55', '49', '42', '49', '43'], ['2015/01/21', '大里', 'PM2.5', '46', '37', '30', '31', '31', '38', '42', '46', '46', '36', '33', '33', '37', '34', '33', '33', '34', '39', '48', '50', '47', '45', '43', '39'], ['2015/01/22', '大里', 'PM2.5', '36', '46', '51', '43', '33', '27', '36', '36', '43', '29', '29', '26', '32', '31', '42', '', '73', '73', '80', '82', '86', '70', '74', '66'], ['2015/01/23', '大里', 'PM2.5', '61', '47', '46', '55', '49', '39', '29', '31', '29', '19', '12', '14', '30', '49', '57', '55', '57', '56', '64', '72', '73', '75', '68', '68'], ['2015/01/24', '大里', 'PM2.5', '63', '61', '59', '58', '56', '52', '39', '33', '34', '40', '30', '33', '49', '66', '76', '75', '73', '60', '58', '67', '83', '88', '87', '80'], ['2015/01/25', '大里', 'PM2.5', '71', '68', '65', '63', '63', '62', '57', '55', '65', '70', '79', '75', '75', '64', '59', '68', '78', '86', '80', '74', '66', '60', '49', '44'], ['2015/01/26', '大里', 'PM2.5', '50', '53', '48', '43', '38', '40', '38', '47', '49', '59', '55', '53', '39', '29', '28', '38', '51', '55', '53', '55', '54', '61', '55', '61'], ['2015/01/27', '大里', 'PM2.5', '56', '52', '41', '46', '49', '52', '43', '43', '48', '48', '40', '30', '30', '33', '36', '37', '35', '36', '43', '46', '42', '30', '22', '17'], ['2015/01/28', '大里', 'PM2.5', '17', '9', '12', '6', '7', '2', '0', '0', '0', '0', '2', '7', '8', '13', '11', '15', '12', '20', '23', '21', '13', '7', '11', '12'], ['2015/01/29', '大里', 'PM2.5', '14', '14', '12', '7', '1', '0', '4', '6', '12', '16', '15', '', '52x', '38x', '30', '29', '27', '29', '24', '24', '21', '19', '19', '23'], ['2015/01/30', '大里', 'PM2.5', '17', '15', '13', '15', '14', '14', '9', '8', '10', '12', '12', '8', '7', '12', '16', '25', '24', '24', '14', '10', '5', '3', '7', '6'], ['2015/01/31', '大里', 'PM2.5', '6', '0', '1', '9', '9', '10', '7', '12', '12', '10', '17', '23', '26', '27', '28', '33', '31', '35', '30', '33', '23', '16', '8', '8'], ['2015/02/01', '大里', 'PM2.5', '17', '11', '8', '2', '3', '1', '0', '2', '5', '10', '8', '10', '23', '26', '23', '13', '11', '16', '18', '23', '23', '15', '16', '12'], ['2015/02/02', '大里', 'PM2.5', '15', '12', '18', '25', '25', '25', '25', '32', '37', '39', '45', '47', '49', '45', '36', '30', '21', '24', '23', '27', '24', '19', '10', '15'], ['2015/02/03', '大里', 'PM2.5', '23', '27', '25', '22', '17', '17', '16', '23', '26', '31', '28', '20', '17', '22', '27', '25', '23', '13', '5', '3', '2', '2', '2', '10'], ['2015/02/04', '大里', 'PM2.5', '10', '12', '9', '12', '7', '4', '4', '2', '13', '20', '26', '16', '10', '19', '23', '26', '21', '26', '33', '28', '29', '27', '31', '26'], ['2015/02/05', '大里', 'PM2.5', '21', '28', '25', '33', '33', '37', '32', '19', '19', '24', '39', '53', '65', '', '', '93', '93', '90', '86', '80', '76', '75', '80', '71'], ['2015/02/06', '大里', 'PM2.5', '63', '53', '52', '51', '51', '47', '43', '30', '27', '28', '', '41', '56', '60', '59', '53', '53', '51', '44', '41', '39', '41', '35', '31'], ['2015/02/07', '大里', 'PM2.5', '32', '32', '38', '43', '49', '48', '47', '54', '56', '60', '62', '66', '70', '73', '60', '46', '23', '25', '23', '40', '36', '32', '25', '29'], ['2015/02/08', '大里', 'PM2.5', '39', '38', '34', '28', '14', '15', '13', '23', '18', '24', '26', '32', '31', '33', '36', '39', '38', '49', '53', '60', '53', '43', '34', '28'], ['2015/02/09', '大里', 'PM2.5', '23', '15', '6', '3', '6', '9', '9', '7', '8', '7', '12', '12', '12', '7', '9', '9', '12', '11', '15', '12', '16', '11', '15', '8'], ['2015/02/10', '大里', 'PM2.5', '9', '3', '7', '3', '4', '0', '0', '0', '3', '12', '', '11', '20', '22', '28', '26', '30', '32', '24', '14', '17', '19', '29', '24'], ['2015/02/11', '大里', 'PM2.5', '24', '23', '24', '27', '23', '11', '16', '14', '32', '33', '55', '58', '55', '37', '24', '23', '23', '30', '28', '28', '27', '32', '44', '47'], ['2015/02/12', '大里', 'PM2.5', '54', '48', '47', '43', '42', '43', '43', '55', '54', '53', '51', '', '48', '45', '39', '45', '48', '47', '47', '44', '49', '56', '64', '61'], ['2015/02/13', '大里', 'PM2.5', '51', '49', '44', '46', '39', '39', '37', '38', '53', '54', '53', '39', '39', '44', '50', '50', '53', '63', '74', '75', '68', '70', '62', '62'], ['2015/02/14', '大里', 'PM2.5', '54', '57', '53', '52', '58', '57', '53', '53', '74', '82', '81', '72', '68', '73', '58', '53', '35', '40', '48', '50', '59', '57', '67', '68'], ['2015/02/15', '大里', 'PM2.5', '66', '83', '88', '94', '81', '64', '58', '53', '51', '57', '48', '53', '43', '70', '94', '104', '86', '67', '58', '70', '79', '79', '74', '65'], ['2015/02/16', '大里', 'PM2.5', '70', '67', '63', '55', '39', '28', '28', '46', '67x', '64x', '', '41', '33', '21', '24', '18', '18', '16', '23', '27', '27', '38', '41', '44'], ['2015/02/17', '大里', 'PM2.5', '43', '34', '37', '32', '36', '31', '23', '28', '33', '49', '60', '70', '77', '62', '54', '41', '46', '43', '41', '47', '52', '59', '58', '63'], ['2015/02/18', '大里', 'PM2.5', '67', '71', '70', '67', '59', '55', '51', '53', '53', '55', '49', '41', '38', '44', '51', '53', '53', '57', '49', '50', '48', '47', '47', '42'], ['2015/02/19', '大里', 'PM2.5', '58', '60', '62', '47', '49', '43', '37', '39', '47', '58', '54', '52', '51', '46', '43', '35', '29', '31', '27', '33', '33', '43', '40', '50']]\n"
          ]
        }
      ],
      "source": [
        "wea_dali = weatherParse.filter(lambda x: x[1] == '大里' and x[2]== \"PM2.5\")\n",
        "print(wea_dali.take(50))"
      ]
    },
    {
      "cell_type": "markdown",
      "metadata": {
        "id": "ImDZp8136bwV"
      },
      "source": [
        "### 步驟三：資料清洗 (使用 map(), str.strip())\n",
        "#### 在氣象局的原始資料裡，有些數值由於當初偵測時有異常，所以會加註特別符號如\\*\\#等特殊符號，或者沒有取到數值為一空值，這些數值我們必須先經過前處理，我們才能進行算術運算。\n",
        "1. ```2015/01/29 大里 PM2.5 14 14 12 7 1 0 4 6 12 16 15  52x 38x 30 29 27 29 24 24 21 19 19 23```\n",
        "2. ```2015/01/16 大里 PM2.5 16 15 17 16 16 13 5 10 14 30 30 25 -4# 22 23 30 33 40 43 45 37 34 38 43``` "
      ]
    },
    {
      "cell_type": "code",
      "execution_count": 17,
      "metadata": {
        "id": "Uqf9UPnz6bwV"
      },
      "outputs": [],
      "source": [
        "def strip_symbol(x):\n",
        "    for i in range(len(x)):\n",
        "        x[i] = x[i].strip(\"-*#x\") # remove non-digits\n",
        "        if x[i]==\"\": x[i]=\"0\"\n",
        "    return x\n",
        "\n",
        "wea_dali = wea_dali.map(strip_symbol)"
      ]
    },
    {
      "cell_type": "markdown",
      "metadata": {
        "id": "vWnybfVB6bwY"
      },
      "source": [
        "### 步驟四：key value pair的產生 (重要的操作概念)\n",
        "*將每小時資料轉成(小時,pm數值)，以求取每小時的平均值。\n",
        "\n",
        "例如：\n",
        "    2015/01/01 大里 PM2.5 53 55 58 53 43 36 35 42 55 64 65 59 52 44 47 41 43 40 42 35 28 20 18 16\n",
        "    --> [(0, 53) (1, 55) (2, 58) (3, 53) (4, 43) ... (21, 20) (22, 18) (23, 16)]\n"
      ]
    },
    {
      "cell_type": "code",
      "execution_count": 18,
      "metadata": {
        "colab": {
          "base_uri": "https://localhost:8080/"
        },
        "id": "iGjDPGJl6bwZ",
        "outputId": "ffe55182-cb46-4a7a-f1dd-f829a5771160"
      },
      "outputs": [
        {
          "name": "stdout",
          "output_type": "stream",
          "text": [
            "['2015/01/01', '大里', 'PM2.5', '53', '55', '58', '53', '43', '36', '35', '42', '55', '64', '65', '59', '52', '44', '47', '41', '43', '40', '42', '35', '28', '20', '18', '16']\n"
          ]
        }
      ],
      "source": [
        "print(wea_dali.first())"
      ]
    },
    {
      "cell_type": "code",
      "execution_count": 19,
      "metadata": {
        "colab": {
          "base_uri": "https://localhost:8080/"
        },
        "id": "OPJlnWbz6bwa",
        "outputId": "0c2c5433-f084-44a4-df76-d3528fea5fde"
      },
      "outputs": [
        {
          "data": {
            "text/plain": [
              "[(0, 53.0),\n",
              " (1, 55.0),\n",
              " (2, 58.0),\n",
              " (3, 53.0),\n",
              " (4, 43.0),\n",
              " (5, 36.0),\n",
              " (6, 35.0),\n",
              " (7, 42.0),\n",
              " (8, 55.0),\n",
              " (9, 64.0),\n",
              " (10, 65.0),\n",
              " (11, 59.0),\n",
              " (12, 52.0),\n",
              " (13, 44.0),\n",
              " (14, 47.0),\n",
              " (15, 41.0),\n",
              " (16, 43.0),\n",
              " (17, 40.0),\n",
              " (18, 42.0),\n",
              " (19, 35.0),\n",
              " (20, 28.0),\n",
              " (21, 20.0),\n",
              " (22, 18.0),\n",
              " (23, 16.0)]"
            ]
          },
          "execution_count": 19,
          "metadata": {},
          "output_type": "execute_result"
        }
      ],
      "source": [
        "def hourKeyGen(x):\n",
        "    hourkeypair = []\n",
        "    x=x[3:]\n",
        "    for i, value in enumerate(x):\n",
        "      print(i, value)\n",
        "      hourkeypair.append((i, float(value)))\n",
        "    return hourkeypair\n",
        "\n",
        "wea_dali_byHourkey = wea_dali.map(hourKeyGen)\n",
        "\n",
        "wea_dali_byHourkey.first()"
      ]
    },
    {
      "cell_type": "markdown",
      "metadata": {
        "id": "kNfl3Vio6bwd"
      },
      "source": [
        "### 步驟五： 利用flatMap(), reduceByKey(), groupByKey()，將不同日期但相同時間的pm25值收集起來。(使用flatMap)"
      ]
    },
    {
      "cell_type": "code",
      "execution_count": 20,
      "metadata": {
        "colab": {
          "base_uri": "https://localhost:8080/"
        },
        "id": "rQWgeD-w6bwf",
        "outputId": "158fea80-4d1f-47b7-c5ee-0553f8dbc1f1"
      },
      "outputs": [
        {
          "data": {
            "text/plain": [
              "[(0, 9838.0),\n",
              " (2, 9229.0),\n",
              " (4, 8346.0),\n",
              " (6, 8121.0),\n",
              " (8, 9580.0),\n",
              " (10, 10919.0),\n",
              " (12, 11505.0),\n",
              " (14, 10172.0),\n",
              " (16, 10396.0),\n",
              " (18, 10396.0)]"
            ]
          },
          "execution_count": 20,
          "metadata": {},
          "output_type": "execute_result"
        }
      ],
      "source": [
        "byHourkey = wea_dali.flatMap(hourKeyGen)\n",
        "byHourkey.reduceByKey(lambda x,y: x+y).take(10)"
      ]
    },
    {
      "cell_type": "markdown",
      "metadata": {
        "id": "dtQpIRWJ6bwh"
      },
      "source": [
        "### 步驟六： 計算大里區每個小時區間中，平均之pm25數值 (使用reduceByKey)"
      ]
    },
    {
      "cell_type": "code",
      "execution_count": 21,
      "metadata": {
        "colab": {
          "base_uri": "https://localhost:8080/"
        },
        "id": "SlXpUgc36bwi",
        "outputId": "bb39d408-5d16-491a-d869-df65eb4e1d4a"
      },
      "outputs": [
        {
          "data": {
            "text/plain": [
              "[(0, 26.953424657534246),\n",
              " (2, 25.284931506849315),\n",
              " (4, 22.865753424657534),\n",
              " (6, 22.24931506849315),\n",
              " (8, 26.246575342465754),\n",
              " (10, 29.915068493150685),\n",
              " (12, 31.52054794520548),\n",
              " (14, 27.86849315068493),\n",
              " (16, 28.482191780821918),\n",
              " (18, 28.482191780821918),\n",
              " (20, 30.136986301369863),\n",
              " (22, 29.161643835616438),\n",
              " (1, 25.704109589041096),\n",
              " (3, 23.76164383561644),\n",
              " (5, 21.975342465753425),\n",
              " (7, 23.572602739726026),\n",
              " (9, 29.252054794520546),\n",
              " (11, 30.265753424657536),\n",
              " (13, 30.65205479452055),\n",
              " (15, 28.147945205479452),\n",
              " (17, 28.295890410958904),\n",
              " (19, 29.315068493150687),\n",
              " (21, 29.783561643835615),\n",
              " (23, 27.852054794520548)]"
            ]
          },
          "execution_count": 21,
          "metadata": {},
          "output_type": "execute_result"
        }
      ],
      "source": [
        "avg_pm25_hour = byHourkey.reduceByKey(lambda x,y: x+y)\n",
        "avg_pm25_hour.map(lambda x:(x[0],x[1]/365)).collect()"
      ]
    },
    {
      "cell_type": "markdown",
      "metadata": {
        "id": "Mko2dCdz6bwk"
      },
      "source": [
        "### 步驟七： 根據pm25平均濃度，進行排序。使用top( )"
      ]
    },
    {
      "cell_type": "code",
      "execution_count": 24,
      "metadata": {
        "colab": {
          "base_uri": "https://localhost:8080/"
        },
        "id": "_qgZSxDs6bwl",
        "outputId": "ee018e42-798e-45d1-f039-0063c8b17fd7"
      },
      "outputs": [
        {
          "data": {
            "text/plain": [
              "[(31.52054794520548, 12),\n",
              " (30.65205479452055, 13),\n",
              " (30.265753424657536, 11),\n",
              " (30.136986301369863, 20),\n",
              " (29.915068493150685, 10),\n",
              " (29.783561643835615, 21),\n",
              " (29.315068493150687, 19),\n",
              " (29.252054794520546, 9),\n",
              " (29.161643835616438, 22),\n",
              " (28.482191780821918, 18),\n",
              " (28.482191780821918, 16),\n",
              " (28.295890410958904, 17),\n",
              " (28.147945205479452, 15),\n",
              " (27.86849315068493, 14),\n",
              " (27.852054794520548, 23),\n",
              " (26.953424657534246, 0),\n",
              " (26.246575342465754, 8),\n",
              " (25.704109589041096, 1),\n",
              " (25.284931506849315, 2),\n",
              " (23.76164383561644, 3),\n",
              " (23.572602739726026, 7),\n",
              " (22.865753424657534, 4),\n",
              " (22.24931506849315, 6),\n",
              " (21.975342465753425, 5)]"
            ]
          },
          "execution_count": 24,
          "metadata": {},
          "output_type": "execute_result"
        }
      ],
      "source": [
        "avg_pm25_hour = byHourkey.reduceByKey(lambda x,y: x+y)\n",
        "avg_pm25_hour.map(lambda x:(x[0],x[1]/365.0)).map(lambda x: (x[1],x[0])).top(24)"
      ]
    },
    {
      "cell_type": "markdown",
      "metadata": {
        "id": "sReXkMgl6bwo"
      },
      "source": [
        "### 步驟八： 計算每個時間點的統計值，例如最大值、最小值、平均值、標準差(使用 groupByKey()與mapValues())"
      ]
    },
    {
      "cell_type": "code",
      "execution_count": 25,
      "metadata": {
        "colab": {
          "base_uri": "https://localhost:8080/"
        },
        "id": "1hYPP0FB6bwo",
        "outputId": "92ea93fa-b672-4bfe-fd24-74e878a8c63a"
      },
      "outputs": [
        {
          "name": "stdout",
          "output_type": "stream",
          "text": [
            "0 117.0 0.0 26.953424657534246 382.0224882717208\n",
            "1 110.0 0.0 25.704109589041096 362.93710639894914\n",
            "2 107.0 0.0 25.284931506849315 354.74621129667855\n",
            "3 102.0 0.0 23.76164383561644 330.0555151060236\n",
            "4 98.0 0.0 22.865753424657534 310.53814224057044\n",
            "5 88.0 0.0 21.975342465753425 299.8651454306624\n",
            "6 96.0 0.0 22.24931506849315 273.9624995308688\n",
            "7 102.0 0.0 23.572602739726026 286.573495965472\n",
            "8 109.0 0.0 26.246575342465754 311.0241321073372\n",
            "9 114.0 0.0 29.252054794520546 361.73920810658655\n",
            "10 114.0 0.0 29.915068493150685 394.8064852692814\n",
            "11 117.0 0.0 30.265753424657536 407.89375867892664\n",
            "12 112.0 0.0 31.52054794520548 404.74820791893416\n",
            "13 103.0 0.0 30.65205479452055 385.36112591480577\n",
            "14 94.0 0.0 27.86849315068493 346.4484593732408\n",
            "15 104.0 0.0 28.147945205479452 354.9753724901482\n",
            "16 93.0 0.0 28.482191780821918 297.4003677988365\n",
            "17 90.0 0.0 28.295890410958904 303.5343666729217\n",
            "18 88.0 0.0 28.482191780821918 299.4825595796585\n",
            "19 99.0 0.0 29.315068493150687 342.48429348845934\n",
            "20 101.0 0.0 30.136986301369863 365.7127416025521\n",
            "21 100.0 0.0 29.783561643835615 375.3093188215425\n",
            "22 107.0 0.0 29.161643835616438 390.53003565396887\n",
            "23 110.0 0.0 27.852054794520548 368.1315368737099\n"
          ]
        }
      ],
      "source": [
        "import numpy as np\n",
        "\n",
        "hour_stat_list = byHourkey.groupByKey().mapValues(list).collect()\n",
        "\n",
        "for i in sorted(hour_stat_list):\n",
        "    print (i[0],max(i[1]),min(i[1]),np.mean(i[1]),np.var(i[1]))"
      ]
    },
    {
      "cell_type": "markdown",
      "metadata": {
        "id": "AF0Vd9yZ6bwq"
      },
      "source": [
        "# 練習2: 請求取2015年，全國pm2.5最高的前十個工作站測點以及其日期。"
      ]
    },
    {
      "cell_type": "code",
      "execution_count": 23,
      "metadata": {
        "id": "cJBYpK6G6bws"
      },
      "outputs": [],
      "source": []
    },
    {
      "cell_type": "code",
      "execution_count": 23,
      "metadata": {
        "id": "4sEW-ZIo6bww"
      },
      "outputs": [],
      "source": []
    },
    {
      "cell_type": "code",
      "execution_count": 23,
      "metadata": {
        "id": "z3Ahgkm-6bwy"
      },
      "outputs": [],
      "source": []
    },
    {
      "cell_type": "markdown",
      "metadata": {
        "id": "OAYJncl_6bwz"
      },
      "source": [
        "Plot your results."
      ]
    },
    {
      "cell_type": "code",
      "execution_count": 23,
      "metadata": {
        "id": "JuqkVh376bwz"
      },
      "outputs": [],
      "source": []
    },
    {
      "cell_type": "markdown",
      "metadata": {
        "id": "cWayHXWE6bw2"
      },
      "source": [
        "# 練習3: 請算算看2015全國哪個測站，紫爆天數最多？\n",
        "### 假設當日平均值大於60，則算該日該地區紫爆\n"
      ]
    },
    {
      "cell_type": "code",
      "execution_count": 23,
      "metadata": {
        "id": "Liq1IcEX6bw2"
      },
      "outputs": [],
      "source": []
    },
    {
      "cell_type": "code",
      "execution_count": 23,
      "metadata": {
        "id": "-4izkMXe6bw5"
      },
      "outputs": [],
      "source": []
    }
  ],
  "metadata": {
    "colab": {
      "collapsed_sections": [],
      "include_colab_link": true,
      "name": "2019/10/3 (student) PM25＋三個練習題.ipynb",
      "provenance": []
    },
    "kernelspec": {
      "display_name": "Python 3",
      "name": "python3"
    }
  },
  "nbformat": 4,
  "nbformat_minor": 0
}
