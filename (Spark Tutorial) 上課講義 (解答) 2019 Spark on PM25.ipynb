{
  "nbformat": 4,
  "nbformat_minor": 0,
  "metadata": {
    "colab": {
      "name": "2019/10/3 (student) PM25＋三個練習題.ipynb",
      "provenance": [],
      "collapsed_sections": [],
      "include_colab_link": true
    },
    "kernelspec": {
      "name": "python3",
      "display_name": "Python 3"
    }
  },
  "cells": [
    {
      "cell_type": "markdown",
      "metadata": {
        "id": "view-in-github",
        "colab_type": "text"
      },
      "source": [
        "<a href=\"https://colab.research.google.com/github/UDICatNCHU/SparkTutorial/blob/answer/(Spark%20Tutorial)%20%E4%B8%8A%E8%AA%B2%E8%AC%9B%E7%BE%A9%20(%E8%A7%A3%E7%AD%94)%202019%20Spark%20on%20PM25.ipynb\" target=\"_parent\"><img src=\"https://colab.research.google.com/assets/colab-badge.svg\" alt=\"Open In Colab\"/></a>"
      ]
    },
    {
      "cell_type": "code",
      "metadata": {
        "id": "JjpVj8Ne_p6R"
      },
      "source": [
        ""
      ],
      "execution_count": null,
      "outputs": []
    },
    {
      "cell_type": "code",
      "metadata": {
        "id": "yZX_HQWt68dR"
      },
      "source": [
        "# 環境初始化 (大約三至五分鐘)\n",
        "! wget -O init_env.sh https://www.dropbox.com/s/6bnwn8u2hz19s59/init_env.sh && \\\n",
        "bash init_env.sh"
      ],
      "execution_count": null,
      "outputs": []
    },
    {
      "cell_type": "code",
      "metadata": {
        "id": "ky97pnWo7EBr"
      },
      "source": [
        "import os, sys\n",
        "os.environ['SPARK_HOME'] = \"/usr/local/spark\"\n",
        "os.environ['PYSPARK_PYTHON'] = \"/usr/local/bin/python\"\n",
        "sys.path.append(\"/usr/local/spark/python/\")\n",
        "sys.path.append(\"/usr/local/spark/python/lib/pyspark.zip\")\n",
        "sys.path.append(\"/usr/local/spark/python/lib/py4j-0.10.4-src.zip\")"
      ],
      "execution_count": null,
      "outputs": []
    },
    {
      "cell_type": "code",
      "metadata": {
        "id": "I1kaE7kK7PRF"
      },
      "source": [
        "from pyspark import SparkContext\n",
        "from pyspark import SparkConf\n",
        "sc =SparkContext()"
      ],
      "execution_count": null,
      "outputs": []
    },
    {
      "cell_type": "markdown",
      "metadata": {
        "id": "ltQpoNZY6bv6"
      },
      "source": [
        "# 利用Spark 分析台灣2015 PM2.5資料集"
      ]
    },
    {
      "cell_type": "markdown",
      "metadata": {
        "id": "zbWZ0dIo6bv7"
      },
      "source": [
        "<a id=\"load_data\"></a>\n",
        "## 上傳台灣2015一整年空氣監測資料 "
      ]
    },
    {
      "cell_type": "markdown",
      "metadata": {
        "id": "C1qgJDsb6bv8"
      },
      "source": [
        "### 步驟1: 將2015空氣監控資料，上傳至colab"
      ]
    },
    {
      "cell_type": "code",
      "metadata": {
        "id": "SVXc7N-P6bv8"
      },
      "source": [
        "!wget -O pm25.csv \"https://www.dropbox.com/s/zkn3ba7pitv83el/pm2.5Taiwan.csv?dl=0\""
      ],
      "execution_count": null,
      "outputs": []
    },
    {
      "cell_type": "code",
      "metadata": {
        "id": "bYAxfnu1SkXO"
      },
      "source": [
        "!ls"
      ],
      "execution_count": null,
      "outputs": []
    },
    {
      "cell_type": "code",
      "metadata": {
        "id": "Y8u7Bxqi6bwF"
      },
      "source": [
        "weather = sc.textFile(\"./pm25.csv\")"
      ],
      "execution_count": null,
      "outputs": []
    },
    {
      "cell_type": "markdown",
      "metadata": {
        "id": "aMVBdYNO6bwH"
      },
      "source": [
        "### 步驟2: 試試看是否成功上傳  (使用count( ), first( ), collect( ), take( ) )"
      ]
    },
    {
      "cell_type": "code",
      "metadata": {
        "id": "QeiPKyGe6bwH"
      },
      "source": [
        "weather.count()\n",
        "weather.first()"
      ],
      "execution_count": null,
      "outputs": []
    },
    {
      "cell_type": "code",
      "metadata": {
        "id": "-6xuyI9R6bwL"
      },
      "source": [
        "weather.take(5)"
      ],
      "execution_count": null,
      "outputs": []
    },
    {
      "cell_type": "markdown",
      "metadata": {
        "id": "6lZMZ1m06bwO"
      },
      "source": [
        "# 練習1: 讓我們求取2015年，大里每小時的平均pm25數值。\n",
        "## 注意事項：\n",
        "1. 資料分割：原始資料每一行為一個觀測值，我們必須將資料進行分割，才能逐一計算與進行操作。\n",
        "2. 資料清洗：在氣象局的原始資料裡，有些數值由於當初偵測時有異常，所以會加註特別符號如\\*\\#等特殊符號，這些數值我們必須先經過前處理，我們才能進行算術運算。\n",
        "3. 資料選擇：將大里資料挑選出來\n",
        "4. 產生key-value，也就是(小時,pm25值)\n",
        "5. 利用flatMap(), reduceByKey(), groupByKey()，將不同日期但相同時間的pm25值收集起來。\n",
        "6. 計算平均值, 標準差, 最大最小值。\n"
      ]
    },
    {
      "cell_type": "markdown",
      "metadata": {
        "id": "A7aedWEz6bwO"
      },
      "source": [
        "### 步驟一：資料分割 (使用map () 與 split( ))"
      ]
    },
    {
      "cell_type": "code",
      "metadata": {
        "id": "_DDuC6At6bwP"
      },
      "source": [
        "weatherParse = weather.map(lambda line : line.split(\",\"))\n",
        "print(weatherParse.first())"
      ],
      "execution_count": null,
      "outputs": []
    },
    {
      "cell_type": "markdown",
      "metadata": {
        "id": "CB_BMIXf6bwR"
      },
      "source": [
        "### 步驟二：將大里站資料從全部資料集中挑選出來 (filter)"
      ]
    },
    {
      "cell_type": "markdown",
      "metadata": {
        "id": "P-np2VJz6bwR"
      },
      "source": [
        ""
      ]
    },
    {
      "cell_type": "code",
      "metadata": {
        "id": "PwzyA92o6bwS"
      },
      "source": [
        "wea_dali = weatherParse.filter(lambda x: x[1] == '大里' and x[2]== \"PM2.5\")\n",
        "print(wea_dali.take(50))"
      ],
      "execution_count": null,
      "outputs": []
    },
    {
      "cell_type": "markdown",
      "metadata": {
        "id": "ImDZp8136bwV"
      },
      "source": [
        "### 步驟三：資料清洗 (使用 map(), str.strip())\n",
        "#### 在氣象局的原始資料裡，有些數值由於當初偵測時有異常，所以會加註特別符號如\\*\\#等特殊符號，或者沒有取到數值為一空值，這些數值我們必須先經過前處理，我們才能進行算術運算。\n",
        "1. ```2015/01/29 大里 PM2.5 14 14 12 7 1 0 4 6 12 16 15  52x 38x 30 29 27 29 24 24 21 19 19 23```\n",
        "2. ```2015/01/16 大里 PM2.5 16 15 17 16 16 13 5 10 14 30 30 25 -4# 22 23 30 33 40 43 45 37 34 38 43``` "
      ]
    },
    {
      "cell_type": "code",
      "metadata": {
        "id": "Uqf9UPnz6bwV"
      },
      "source": [
        "def strip_symbol(x):\n",
        "    for i in range(len(x)):\n",
        "        x[i] = x[i].strip(\"-*#x\") # remove non-digits\n",
        "        if x[i]==\"\": x[i]=\"0\"\n",
        "    return x\n",
        "\n",
        "wea_dali = wea_dali.map(strip_symbol)"
      ],
      "execution_count": null,
      "outputs": []
    },
    {
      "cell_type": "markdown",
      "metadata": {
        "id": "vWnybfVB6bwY"
      },
      "source": [
        "### 步驟四：key value pair的產生 (重要的操作概念)\n",
        "*將每小時資料轉成(小時,pm數值)，以求取每小時的平均值。\n",
        "\n",
        "例如：\n",
        "    2015/01/01 大里 PM2.5 53 55 58 53 43 36 35 42 55 64 65 59 52 44 47 41 43 40 42 35 28 20 18 16\n",
        "    --> [(0, 53) (1, 55) (2, 58) (3, 53) (4, 43) ... (21, 20) (22, 18) (23, 16)]\n"
      ]
    },
    {
      "cell_type": "code",
      "metadata": {
        "id": "iGjDPGJl6bwZ"
      },
      "source": [
        "print(wea_dali.first())"
      ],
      "execution_count": null,
      "outputs": []
    },
    {
      "cell_type": "code",
      "metadata": {
        "id": "OPJlnWbz6bwa"
      },
      "source": [
        "def hourKeyGen(x):\n",
        "    hourkeypair = []\n",
        "    x=x[3:]\n",
        "    for i, value in enumerate(x):\n",
        "      print(i, value)\n",
        "      hourkeypair.append((i, float(value)))\n",
        "    return hourkeypair\n",
        "\n",
        "wea_dali_byHourkey = wea_dali.map(hourKeyGen)\n",
        "\n",
        "wea_dali_byHourkey.first()"
      ],
      "execution_count": null,
      "outputs": []
    },
    {
      "cell_type": "markdown",
      "metadata": {
        "id": "kNfl3Vio6bwd"
      },
      "source": [
        "### 步驟五： 利用flatMap(), reduceByKey(), groupByKey()，將不同日期但相同時間的pm25值收集起來。(使用flatMap)"
      ]
    },
    {
      "cell_type": "code",
      "metadata": {
        "id": "rQWgeD-w6bwf"
      },
      "source": [
        "byHourkey = wea_dali.flatMap(hourKeyGen)\n",
        "byHourkey.reduceByKey(lambda x,y: x+y).take(10)"
      ],
      "execution_count": null,
      "outputs": []
    },
    {
      "cell_type": "markdown",
      "metadata": {
        "id": "dtQpIRWJ6bwh"
      },
      "source": [
        "### 步驟六： 計算大里區每個小時區間中，平均之pm25數值 (使用reduceByKey)"
      ]
    },
    {
      "cell_type": "code",
      "metadata": {
        "id": "SlXpUgc36bwi"
      },
      "source": [
        "avg_pm25_hour = byHourkey.reduceByKey(lambda x,y: x+y)\n",
        "avg_pm25_hour.map(lambda x:(x[0],x[1]/365)).collect()"
      ],
      "execution_count": null,
      "outputs": []
    },
    {
      "cell_type": "markdown",
      "metadata": {
        "id": "Mko2dCdz6bwk"
      },
      "source": [
        "### 步驟七： 根據pm25平均濃度，進行排序。使用top( )"
      ]
    },
    {
      "cell_type": "code",
      "metadata": {
        "id": "_qgZSxDs6bwl"
      },
      "source": [
        "avg_pm25_hour = byHourkey.reduceByKey(lambda x,y: x+y)\n",
        "avg_pm25_hour.map(lambda x:(x[0],x[1]/365.0)).map(lambda x: (x[1],x[0])).top(24)"
      ],
      "execution_count": null,
      "outputs": []
    },
    {
      "cell_type": "markdown",
      "metadata": {
        "id": "sReXkMgl6bwo"
      },
      "source": [
        "### 步驟八： 計算每個時間點的統計值，例如最大值、最小值、平均值、標準差(使用 groupByKey()與mapValues())"
      ]
    },
    {
      "cell_type": "code",
      "metadata": {
        "id": "1hYPP0FB6bwo"
      },
      "source": [
        "import numpy as np\n",
        "\n",
        "hour_stat_list = byHourkey.groupByKey().mapValues(list).collect()\n",
        "\n",
        "for i in sorted(hour_stat_list):\n",
        "    print (i[0],max(i[1]),min(i[1]),np.mean(i[1]),np.var(i[1]))"
      ],
      "execution_count": null,
      "outputs": []
    },
    {
      "cell_type": "markdown",
      "metadata": {
        "id": "AF0Vd9yZ6bwq"
      },
      "source": [
        "# 練習2: 請求取2015年，全國pm2.5最高的前十個工作站測點以及其日期。"
      ]
    },
    {
      "cell_type": "code",
      "metadata": {
        "id": "cJBYpK6G6bws"
      },
      "source": [
        "### weatherParse 為原始資料集\n",
        "### 資料清洗\n",
        "def strip_symbol(x):\n",
        "    for i in range(len(x)):\n",
        "        #x[i] = x[i].strip(\"-*#x\") # remove non-digits\n",
        "        if \"#\" in x[i]:x[i]=\"0\"\n",
        "        if \"*\" in x[i]:x[i]=\"0\"\n",
        "        if \"x\" in x[i]:x[i]=\"0\"\n",
        "        if \"-\" in x[i]:x[i]=\"0\"\n",
        "        if x[i]==\"\": x[i]=\"0\"\n",
        "    return x\n",
        "\n",
        "def date_location_time (x):\n",
        "    date_loc_time_measure = []\n",
        "    date = x[0]\n",
        "    loc = x[1]\n",
        "    x = x[3:]\n",
        "    for hour, i in enumerate(x):\n",
        "      date_loc_time_string = date+\" at \"+ loc +\" : \"+str(hour)+ u'點'\n",
        "      date_loc_time_measure.append((date_loc_time_string, int(i)))\n",
        "    \n",
        "    return date_loc_time_measure"
      ],
      "execution_count": null,
      "outputs": []
    },
    {
      "cell_type": "code",
      "metadata": {
        "id": "4sEW-ZIo6bww"
      },
      "source": [
        "weather = sc.textFile(\"./pm25.csv\")\n",
        "weatherParse = weather.map(lambda line : line.split(\",\"))\n",
        "\n",
        "top10pm25 = weatherParse.filter(lambda x: x[2]==\"PM2.5\")\\\n",
        "            .map(strip_symbol)\\\n",
        "            .flatMap(date_location_time)\\\n",
        "            .map(lambda x: (x[1],x[0]))\\\n",
        "            .top(10)          \n",
        "\n",
        "for i in top10pm25:\n",
        "    print(i)"
      ],
      "execution_count": null,
      "outputs": []
    },
    {
      "cell_type": "code",
      "metadata": {
        "id": "z3Ahgkm-6bwy"
      },
      "source": [
        "precTop10=[]\n",
        "stationsTop10=[]\n",
        "for result in top10pm25:\n",
        "    precTop10.append(result[0])\n",
        "    stationsTop10.append(result[1])"
      ],
      "execution_count": null,
      "outputs": []
    },
    {
      "cell_type": "markdown",
      "metadata": {
        "id": "OAYJncl_6bwz"
      },
      "source": [
        "Plot your results."
      ]
    },
    {
      "cell_type": "code",
      "metadata": {
        "id": "JuqkVh376bwz"
      },
      "source": [
        "%matplotlib inline\n",
        "import numpy as np\n",
        "import matplotlib.pyplot as plt\n",
        "\n",
        "N = 10\n",
        "index = np.arange(N)  \n",
        "bar_width = 0.5\n",
        "\n",
        "plt.bar(index, precTop10, bar_width, color='b')\n",
        "plt.xlabel('Stations')\n",
        "plt.ylabel('pm25')\n",
        "plt.title('10 stations with the highest average pm25')\n",
        "plt.xticks(index + bar_width, stationsTop10, rotation=90)\n",
        "plt.show()"
      ],
      "execution_count": null,
      "outputs": []
    },
    {
      "cell_type": "markdown",
      "metadata": {
        "id": "cWayHXWE6bw2"
      },
      "source": [
        "# 練習3: 請算算看2015全國哪個測站，紫爆天數最多？\n",
        "### 假設當日平均值大於60，則算該日該地區紫爆\n"
      ]
    },
    {
      "cell_type": "code",
      "metadata": {
        "id": "Liq1IcEX6bw2"
      },
      "source": [
        "\n",
        "### 資料清洗\n",
        "def strip_symbol(x):\n",
        "    for i in range(len(x)):\n",
        "        #x[i] = x[i].strip(\"-*#x\") # remove non-digits\n",
        "        if \"#\" in x[i]:x[i]=\"0\"\n",
        "        if \"*\" in x[i]:x[i]=\"0\"\n",
        "        if \"x\" in x[i]:x[i]=\"0\"\n",
        "        if \"-\" in x[i]:x[i]=\"0\"\n",
        "        if x[i]==\"\": x[i]=\"0\"\n",
        "    return x\n",
        "\n",
        "def computeAverage(x):\n",
        "    location = x[1]\n",
        "    x = x[3:]\n",
        "    y = [float(i) for i in x]\n",
        "    return (location, sum(y)/len(y))\n",
        "\n",
        "Worst = weatherParse\\\n",
        "        .map(strip_symbol)\\\n",
        "        .filter(lambda x: x[2]==\"PM2.5\")\\\n",
        "        .map(computeAverage)\\\n",
        "        .filter(lambda x:x[1]>60)\\\n",
        "        .map(lambda x: (x[0],1))\\\n",
        "        .reduceByKey(lambda x,y:x+y)\\\n",
        "        .sortBy(lambda x:x[1], ascending=False).collect()\n",
        "\n",
        "\n",
        "for loc in Worst:\n",
        "  print(loc)\n",
        "\n",
        "\n"
      ],
      "execution_count": null,
      "outputs": []
    },
    {
      "cell_type": "code",
      "metadata": {
        "id": "-4izkMXe6bw5"
      },
      "source": [
        ""
      ],
      "execution_count": null,
      "outputs": []
    }
  ]
}