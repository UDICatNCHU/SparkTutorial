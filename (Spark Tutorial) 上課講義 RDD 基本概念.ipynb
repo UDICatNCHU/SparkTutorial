{
  "nbformat": 4,
  "nbformat_minor": 0,
  "metadata": {
    "colab": {
      "name": "RDD basic tutorial.ipynb",
      "provenance": [],
      "include_colab_link": true
    },
    "kernelspec": {
      "name": "python3",
      "display_name": "Python 3"
    }
  },
  "cells": [
    {
      "cell_type": "markdown",
      "metadata": {
        "id": "view-in-github",
        "colab_type": "text"
      },
      "source": [
        "<a href=\"https://colab.research.google.com/github/UDICatNCHU/SparkTutorial/blob/master/(SparkTutorial)%20RDD_basic_tutorial%202019.ipynb\" target=\"_parent\"><img src=\"https://colab.research.google.com/assets/colab-badge.svg\" alt=\"Open In Colab\"/></a>"
      ]
    },
    {
      "cell_type": "code",
      "metadata": {
        "id": "cF0hz0LrunvS",
        "colab_type": "code",
        "colab": {
          "base_uri": "https://localhost:8080/",
          "height": 401
        },
        "outputId": "9bc1f5aa-1b4c-439b-8d04-ceb9c26b57a8"
      },
      "source": [
        "# 環境初始化 (大約三至五分鐘)\n",
        "! wget -O init_env.sh https://www.dropbox.com/s/cce2nnozquh8twz/init_env%20spark%203.0.1.sh?dl=0 && \\\n",
        "bash init_env.sh"
      ],
      "execution_count": 30,
      "outputs": [
        {
          "output_type": "stream",
          "text": [
            "--2019-10-03 06:12:47--  https://www.dropbox.com/s/6bnwn8u2hz19s59/init_env.sh\n",
            "Resolving www.dropbox.com (www.dropbox.com)... 162.125.1.1, 2620:100:6016:1::a27d:101\n",
            "Connecting to www.dropbox.com (www.dropbox.com)|162.125.1.1|:443... connected.\n",
            "HTTP request sent, awaiting response... 301 Moved Permanently\n",
            "Location: /s/raw/6bnwn8u2hz19s59/init_env.sh [following]\n",
            "--2019-10-03 06:12:47--  https://www.dropbox.com/s/raw/6bnwn8u2hz19s59/init_env.sh\n",
            "Reusing existing connection to www.dropbox.com:443.\n",
            "HTTP request sent, awaiting response... 302 Found\n",
            "Location: https://uc3bd129e1b4e8d0bb332b943f0a.dl.dropboxusercontent.com/cd/0/inline/Apu1EtAOCHHMKeuJFIQrfYZN-Z5vX1p7q5Y2B4mp9kQfdEO5tM9a0oLKTugyHxrLRuvTWZINAu3nVmT8FsvJxr0iOIPqoUGAGit2IIS4CePCCg/file# [following]\n",
            "--2019-10-03 06:12:47--  https://uc3bd129e1b4e8d0bb332b943f0a.dl.dropboxusercontent.com/cd/0/inline/Apu1EtAOCHHMKeuJFIQrfYZN-Z5vX1p7q5Y2B4mp9kQfdEO5tM9a0oLKTugyHxrLRuvTWZINAu3nVmT8FsvJxr0iOIPqoUGAGit2IIS4CePCCg/file\n",
            "Resolving uc3bd129e1b4e8d0bb332b943f0a.dl.dropboxusercontent.com (uc3bd129e1b4e8d0bb332b943f0a.dl.dropboxusercontent.com)... 162.125.1.6, 2620:100:601b:6::a27d:806\n",
            "Connecting to uc3bd129e1b4e8d0bb332b943f0a.dl.dropboxusercontent.com (uc3bd129e1b4e8d0bb332b943f0a.dl.dropboxusercontent.com)|162.125.1.6|:443... connected.\n",
            "HTTP request sent, awaiting response... 200 OK\n",
            "Length: 336 [text/plain]\n",
            "Saving to: ‘init_env.sh’\n",
            "\n",
            "\rinit_env.sh           0%[                    ]       0  --.-KB/s               \rinit_env.sh         100%[===================>]     336  --.-KB/s    in 0s      \n",
            "\n",
            "2019-10-03 06:12:48 (55.3 MB/s) - ‘init_env.sh’ saved [336/336]\n",
            "\n",
            "環境初始化完畢\n"
          ],
          "name": "stdout"
        }
      ]
    },
    {
      "cell_type": "markdown",
      "metadata": {
        "id": "2oBsLO2DHb2g",
        "colab_type": "text"
      },
      "source": [
        ""
      ]
    },
    {
      "cell_type": "code",
      "metadata": {
        "id": "WDrjL-AdO0ba",
        "colab_type": "code",
        "colab": {
          "base_uri": "https://localhost:8080/",
          "height": 35
        },
        "outputId": "d263c0b4-d3ea-4211-eb7d-ebb2562b18e4"
      },
      "source": [
        "!which python"
      ],
      "execution_count": 31,
      "outputs": [
        {
          "output_type": "stream",
          "text": [
            "/usr/local/bin/python\n"
          ],
          "name": "stdout"
        }
      ]
    },
    {
      "cell_type": "code",
      "metadata": {
        "id": "5e-bX8_hN1yT",
        "colab_type": "code",
        "colab": {
          "base_uri": "https://localhost:8080/",
          "height": 35
        },
        "outputId": "1004e9d3-380e-4153-9b3a-e2e85fd96ee1"
      },
      "source": [
        "!/usr/local/bin/python -V"
      ],
      "execution_count": 32,
      "outputs": [
        {
          "output_type": "stream",
          "text": [
            "Python 3.6.8\n"
          ],
          "name": "stdout"
        }
      ]
    },
    {
      "cell_type": "code",
      "metadata": {
        "id": "f1m9p6bAuwgY",
        "colab_type": "code",
        "colab": {}
      },
      "source": [
        "import os, sys\n",
        "os.environ['SPARK_HOME'] = \"/usr/local/spark\"\n",
        "# os.environ['PYSPARK_PYTHON'] = \"/usr/bin/python\"\n",
        "os.environ['PYSPARK_PYTHON'] = \"/usr/local/bin/python\"\n",
        "sys.path.append(\"/usr/local/spark/python/\")\n",
        "sys.path.append(\"/usr/local/spark/python/lib/pyspark.zip\")\n",
        "sys.path.append(\"/usr/local/spark/python/lib/py4j-0.10.9-src.zip\")"
      ],
      "execution_count": 0,
      "outputs": []
    },
    {
      "cell_type": "code",
      "metadata": {
        "id": "Siw9OMRLu0uA",
        "colab_type": "code",
        "colab": {
          "base_uri": "https://localhost:8080/",
          "height": 247
        },
        "outputId": "a2abdf29-0eff-470a-dfce-1e35b3ed5a40"
      },
      "source": [
        "from pyspark import SparkContext\n",
        "from pyspark import SparkConf\n",
        "sc = SparkContext()"
      ],
      "execution_count": 34,
      "outputs": [
        {
          "output_type": "error",
          "ename": "ValueError",
          "evalue": "ignored",
          "traceback": [
            "\u001b[0;31m---------------------------------------------------------------------------\u001b[0m",
            "\u001b[0;31mValueError\u001b[0m                                Traceback (most recent call last)",
            "\u001b[0;32m<ipython-input-34-f3f4f7cb3c88>\u001b[0m in \u001b[0;36m<module>\u001b[0;34m()\u001b[0m\n\u001b[1;32m      1\u001b[0m \u001b[0;32mfrom\u001b[0m \u001b[0mpyspark\u001b[0m \u001b[0;32mimport\u001b[0m \u001b[0mSparkContext\u001b[0m\u001b[0;34m\u001b[0m\u001b[0;34m\u001b[0m\u001b[0m\n\u001b[1;32m      2\u001b[0m \u001b[0;32mfrom\u001b[0m \u001b[0mpyspark\u001b[0m \u001b[0;32mimport\u001b[0m \u001b[0mSparkConf\u001b[0m\u001b[0;34m\u001b[0m\u001b[0;34m\u001b[0m\u001b[0m\n\u001b[0;32m----> 3\u001b[0;31m \u001b[0msc\u001b[0m \u001b[0;34m=\u001b[0m \u001b[0mSparkContext\u001b[0m\u001b[0;34m(\u001b[0m\u001b[0;34m)\u001b[0m\u001b[0;34m\u001b[0m\u001b[0;34m\u001b[0m\u001b[0m\n\u001b[0m",
            "\u001b[0;32m/usr/local/spark/python/pyspark/context.py\u001b[0m in \u001b[0;36m__init__\u001b[0;34m(self, master, appName, sparkHome, pyFiles, environment, batchSize, serializer, conf, gateway, jsc, profiler_cls)\u001b[0m\n\u001b[1;32m    113\u001b[0m         \"\"\"\n\u001b[1;32m    114\u001b[0m         \u001b[0mself\u001b[0m\u001b[0;34m.\u001b[0m\u001b[0m_callsite\u001b[0m \u001b[0;34m=\u001b[0m \u001b[0mfirst_spark_call\u001b[0m\u001b[0;34m(\u001b[0m\u001b[0;34m)\u001b[0m \u001b[0;32mor\u001b[0m \u001b[0mCallSite\u001b[0m\u001b[0;34m(\u001b[0m\u001b[0;32mNone\u001b[0m\u001b[0;34m,\u001b[0m \u001b[0;32mNone\u001b[0m\u001b[0;34m,\u001b[0m \u001b[0;32mNone\u001b[0m\u001b[0;34m)\u001b[0m\u001b[0;34m\u001b[0m\u001b[0;34m\u001b[0m\u001b[0m\n\u001b[0;32m--> 115\u001b[0;31m         \u001b[0mSparkContext\u001b[0m\u001b[0;34m.\u001b[0m\u001b[0m_ensure_initialized\u001b[0m\u001b[0;34m(\u001b[0m\u001b[0mself\u001b[0m\u001b[0;34m,\u001b[0m \u001b[0mgateway\u001b[0m\u001b[0;34m=\u001b[0m\u001b[0mgateway\u001b[0m\u001b[0;34m,\u001b[0m \u001b[0mconf\u001b[0m\u001b[0;34m=\u001b[0m\u001b[0mconf\u001b[0m\u001b[0;34m)\u001b[0m\u001b[0;34m\u001b[0m\u001b[0;34m\u001b[0m\u001b[0m\n\u001b[0m\u001b[1;32m    116\u001b[0m         \u001b[0;32mtry\u001b[0m\u001b[0;34m:\u001b[0m\u001b[0;34m\u001b[0m\u001b[0;34m\u001b[0m\u001b[0m\n\u001b[1;32m    117\u001b[0m             self._do_init(master, appName, sparkHome, pyFiles, environment, batchSize, serializer,\n",
            "\u001b[0;32m/usr/local/spark/python/pyspark/context.py\u001b[0m in \u001b[0;36m_ensure_initialized\u001b[0;34m(cls, instance, gateway, conf)\u001b[0m\n\u001b[1;32m    297\u001b[0m                         \u001b[0;34m\" created by %s at %s:%s \"\u001b[0m\u001b[0;34m\u001b[0m\u001b[0;34m\u001b[0m\u001b[0m\n\u001b[1;32m    298\u001b[0m                         % (currentAppName, currentMaster,\n\u001b[0;32m--> 299\u001b[0;31m                             callsite.function, callsite.file, callsite.linenum))\n\u001b[0m\u001b[1;32m    300\u001b[0m                 \u001b[0;32melse\u001b[0m\u001b[0;34m:\u001b[0m\u001b[0;34m\u001b[0m\u001b[0;34m\u001b[0m\u001b[0m\n\u001b[1;32m    301\u001b[0m                     \u001b[0mSparkContext\u001b[0m\u001b[0;34m.\u001b[0m\u001b[0m_active_spark_context\u001b[0m \u001b[0;34m=\u001b[0m \u001b[0minstance\u001b[0m\u001b[0;34m\u001b[0m\u001b[0;34m\u001b[0m\u001b[0m\n",
            "\u001b[0;31mValueError\u001b[0m: Cannot run multiple SparkContexts at once; existing SparkContext(app=pyspark-shell, master=local[*]) created by __init__ at <ipython-input-5-f3f4f7cb3c88>:3 "
          ]
        }
      ]
    },
    {
      "cell_type": "markdown",
      "metadata": {
        "id": "RtUgrtwrt1Qa",
        "colab_type": "text"
      },
      "source": [
        "# Apache Spark 基本練習：\n",
        "\n",
        "是一個開源叢集運算框架，最初是由加州大學柏克萊分校AMPLab所開發。相對於Hadoop的MapReduce會在執行完工作後將中介資料存放到磁碟中，Spark使用了記憶體內運算技術，能在資料尚未寫入硬碟時即在記憶體內分析運算。Spark在記憶體內執行程式的運算速度能做到比Hadoop MapReduce的運算速度快上100倍。\n",
        "\n",
        "Some References :\n",
        "\n",
        "1. [http://www.mccarroll.net/blog/pyspark/index.html]\n",
        "2. [https://www.codementor.io/spark/tutorial/spark-python-rdd-basics]\n",
        "3. [http://backtobazics.com/big-data/spark/apache-spark-map-example/]\n",
        "4. [http://datascience-enthusiast.com/Python/Apache_Spark1.html]\n",
        "\n",
        "## RDD 基本操作練習：\n",
        "\n",
        "\n",
        "\n",
        "### 產生一個整數隨機陣列： python語法："
      ]
    },
    {
      "cell_type": "code",
      "metadata": {
        "id": "I--b66Kzt1Qc",
        "colab_type": "code",
        "colab": {
          "base_uri": "https://localhost:8080/",
          "height": 988
        },
        "outputId": "91b4e160-5811-4aab-e1e0-decb8f4c3e14"
      },
      "source": [
        "import numpy as np\n",
        "random_array = np.random.randint(1000, size=1000)\n",
        "print (random_array)"
      ],
      "execution_count": 35,
      "outputs": [
        {
          "output_type": "stream",
          "text": [
            "[510 374 720 586 962 661 994  23 563 660 763 376 663 711 906 299 291 323\n",
            " 843 710 472 782 268 580  34 470 533 891 762 166 473 468 474 695 390 709\n",
            " 575 528 610 314 555 435  56 594 378 716  70 984 577 504 924 151 269 795\n",
            " 843 963 664 657 698 439 611  14 700 649 518 615 541 209 275 484 882 649\n",
            " 312 688 525 298 705 617 283 943 121 435 544 538 925 783  99 792 857 782\n",
            " 587 403 295 891 444 942  86 494 785 116 819 817 364 782 552 439 465  95\n",
            " 116 943 608 116 411  75 230 167 851  58 494 757  34 744 643 266 126  43\n",
            " 902 785 113 511 526  79 128 651 799 558 548 502 776  49 862 358 940 440\n",
            " 244 594 633 942 488 568 740 915 666 164 424  86 711  45 344 648 363 796\n",
            " 227 906 709 886 724 623 712 762 375 236 963 953 842 667 484 880 588 385\n",
            " 200 739 329 627 785 238 299 202  15 605 673 936  70  31 707 396 819 259\n",
            " 912 642 754 637 616 986 578 922 453 882 103 194 412 166 423 724  61 280\n",
            " 390  57 101  48 642 536 219 952 915 252 411   0 253  56 670 631 446 584\n",
            " 881 395 211 705 736 209 244 438 751 826 228 351 261 397 352 609  39 481\n",
            " 983 552 494 314 367 322 958  23 315  85 694 592 622 762 686 203 272 551\n",
            " 514 891 610 110 288 923 503 894 859 112 746 876 681 997  37 370 699 343\n",
            " 950 389 960 992 206 807 227 354 993 750 768   1 223 563 750 292 928 121\n",
            " 615 612 751  53 631 378 946 196 409 720  53 835 883 503 399 600 562 812\n",
            " 915 224 810 980 385 411 693 211 303 204  21 195 174 866 332 457 826 223\n",
            " 234 533 553 896 771 101 738 482 200 607 440 222 326 536 344 694 952 354\n",
            " 888 176   7 981 480 576 951 884 298 917 829 382 775 806 774 934 170 664\n",
            " 354 182 835 274 202 523 468 870 111 520 896 878 535 226 440 493 141 467\n",
            " 224 683  90 160 907 483 875 244 220 379 802 432 728 663  83 199 857  48\n",
            " 299 508 969  76 480 306  67 263 432 121 977 657 236 987 837 769 627 880\n",
            " 687 630 787 250 407  86  62 552  58 998 318 298 983 592 560  43 139 852\n",
            " 804 345 604 183 528 384 455 418 557 596 246 121 275 776 415 975 990 416\n",
            " 197  52 693 392 544 734 547 513 336 572 175 158 929 323 219 927 198 559\n",
            "  34 690 427 402 473 702 384 270 297 890  27 388 736  30 221 273 256  50\n",
            " 335 420 132 961 528 844 653 423 554 649 315 272 511 579 959 682 316 606\n",
            " 766 589 243 547 480 802 336 901 149 711  49 220 483 633 434 708  74 631\n",
            " 414 347 491 629 912 732 928 592 768 512 134 743 252 729 288 590 805 653\n",
            " 354 865 772  87 252 698 984 279 866 980 169 441 956 642 888 783 456 480\n",
            " 304 516 232 743 453 567 344 223 535 658 499 773 784 725 539 761 600 986\n",
            " 422 320   3 970 124 664 855 159  73 552  73 919 873 348 988 462 387 462\n",
            " 968 654 377 103 326 322 390 663 721 954 673 352 888 601 828 985 616  67\n",
            " 899 440  60 490 245 536   9 560 842 373 750 873 324 918   2 339 592 870\n",
            "  55 266  63 815 283 727 674 856 510 654 706 675 580 519 850 691 389 140\n",
            " 250 355 816 311 821 952 282 153 568 238 539 526 497 169 611 580  42 157\n",
            " 208 869 373 878 932 411   8  40 539  24  19 437 392 357 380  18 445 981\n",
            " 100 823 741 778 180 706 115 978 792 111 284 907 234 757 596 569 258 359\n",
            " 833 198 816 896 949 953 437 284 294 270 382 608 888 662 968 495 798 876\n",
            " 233 386   3 438 687  95 727 943 818 873 304 761 601 924 838 389 581 596\n",
            " 468 755 951 238 240 676 945 772 261 681 500 596 575 748 609 335 487  95\n",
            " 523 697 956 908 155 842 215 861 550  13 967 420 682 943 492 496 701 193\n",
            " 532 811 746 964 505 243  68 667 741 673  17 936 718 565 946 172 429 389\n",
            " 964 126  40 394 323  23 670 409  19  78 194 881  59  58 504  60 321 361\n",
            " 326 829 117 924 269 816 421  82 367 312 807 253 613 440 951 294 477 274\n",
            " 754 826 691 775 343 487 712 591 989 285 680 646 607 458 207 103 733 138\n",
            " 445 227 168 622 245 102 952 219 564 856 455 471 330 220 442  80 860 157\n",
            " 103 176 955 992 422 679 557 134 459 613 692 878 969 651 122 144 880 377\n",
            " 449 416 387 983 629 360 955 932 463 774 145 651 997 366 503 530 949 347\n",
            " 307 880 570 985 439  73 653 754 695 936  62 330 802 226 812 401 790 165\n",
            " 877 156 813 275 946 161 693  45 786 450  69 778 516 220 871 769 981 230\n",
            " 727 358  38 283 706 531  33 193   6 328 270  84 185 378 895 643 644 507\n",
            " 712 672 519 493 974 256 751 405 540 729 443 579  86 264 580 736 246 757\n",
            "  54 602 332   3 745 499 221 196 438  42]\n"
          ],
          "name": "stdout"
        }
      ]
    },
    {
      "cell_type": "markdown",
      "metadata": {
        "id": "l6qyKmz4t1Qg",
        "colab_type": "text"
      },
      "source": [
        "# 將資料轉成RDD，分別擺放於各spark executors上\n",
        "\n",
        "<img src=\"https://www.dropbox.com/s/br94ete5q3rj9w3/spark%20data%20model.png?dl=1\" width=\"500\" align=\"left\">\n",
        "\n",
        "\n",
        "\n",
        "\n",
        "___\n",
        "<img src=\"https://www.dropbox.com/s/l2gohpmn53jkv1b/%20spark%20system%20overview.png?dl=1\" width=\"500\" align=\"left\">"
      ]
    },
    {
      "cell_type": "code",
      "metadata": {
        "id": "MeFSq7rbt1Qg",
        "colab_type": "code",
        "colab": {}
      },
      "source": [
        "rdd = sc.parallelize(random_array)"
      ],
      "execution_count": 0,
      "outputs": []
    },
    {
      "cell_type": "code",
      "metadata": {
        "id": "GiQqw6x0t1Qi",
        "colab_type": "code",
        "outputId": "2ad38fb8-c641-47d8-edc5-5e926a78b4c7",
        "colab": {
          "base_uri": "https://localhost:8080/",
          "height": 52
        }
      },
      "source": [
        "print(type(random_array))\n",
        "print(type(rdd))"
      ],
      "execution_count": 37,
      "outputs": [
        {
          "output_type": "stream",
          "text": [
            "<class 'numpy.ndarray'>\n",
            "<class 'pyspark.rdd.RDD'>\n"
          ],
          "name": "stdout"
        }
      ]
    },
    {
      "cell_type": "markdown",
      "metadata": {
        "id": "IMGznHMkt1Qk",
        "colab_type": "text"
      },
      "source": [
        "### RDD為Apache Spark最核心之概念，有別於MapRduce，僅提供Map()與Reduce()兩項操作。 RDD提供兩大類別Transformation與Action\n",
        "\n"
      ]
    },
    {
      "cell_type": "markdown",
      "metadata": {
        "id": "mJUQZL9lt1Qm",
        "colab_type": "text"
      },
      "source": [
        "> <img src=\"https://www.dropbox.com/s/omfoi3uzcgapcm4/rdd%20transformation%20concept.png?dl=1\" width=\"500\" align=\"left\">  "
      ]
    },
    {
      "cell_type": "markdown",
      "metadata": {
        "id": "kC-QgXwjt1Qm",
        "colab_type": "text"
      },
      "source": [
        "> <img src=\"https://www.dropbox.com/s/3u8gt5376qq5vjy/spark%20core.png?dl=1\" width=\"500\" align=\"left\">"
      ]
    },
    {
      "cell_type": "markdown",
      "metadata": {
        "id": "TQtTc14Wt1Qm",
        "colab_type": "text"
      },
      "source": [
        "## 最基本之Action操作  \n",
        "### 使用 collect( ) 將分散於各機器之資料，收集成為單機資料集\n",
        "<img src=\"https://www.dropbox.com/s/pjv20pl5wkevjf6/collect.png?dl=1\" width=\"500\" align=\"left\">\n"
      ]
    },
    {
      "cell_type": "code",
      "metadata": {
        "id": "11KfV3fPL6EG",
        "colab_type": "code",
        "colab": {}
      },
      "source": [
        ""
      ],
      "execution_count": 0,
      "outputs": []
    },
    {
      "cell_type": "code",
      "metadata": {
        "id": "RnSzxgq9Nn0w",
        "colab_type": "code",
        "colab": {}
      },
      "source": [
        ""
      ],
      "execution_count": 0,
      "outputs": []
    },
    {
      "cell_type": "code",
      "metadata": {
        "id": "ZlZ-0sOSMXrx",
        "colab_type": "code",
        "colab": {}
      },
      "source": [
        ""
      ],
      "execution_count": 0,
      "outputs": []
    },
    {
      "cell_type": "code",
      "metadata": {
        "id": "mN3hI6UAt1Qn",
        "colab_type": "code",
        "outputId": "19909592-bd32-4054-e055-fcf4b29860f5",
        "colab": {
          "base_uri": "https://localhost:8080/",
          "height": 35
        }
      },
      "source": [
        "rdd.first()"
      ],
      "execution_count": 38,
      "outputs": [
        {
          "output_type": "execute_result",
          "data": {
            "text/plain": [
              "510"
            ]
          },
          "metadata": {
            "tags": []
          },
          "execution_count": 38
        }
      ]
    },
    {
      "cell_type": "markdown",
      "metadata": {
        "id": "fa8Z0Zwht1Qp",
        "colab_type": "text"
      },
      "source": [
        "## Transformation 觀念介紹"
      ]
    },
    {
      "cell_type": "code",
      "metadata": {
        "id": "XFThLRfCt1Qq",
        "colab_type": "code",
        "outputId": "c2b6dedc-7c7c-42be-85ed-b4ba46c86548",
        "colab": {
          "base_uri": "https://localhost:8080/",
          "height": 35
        }
      },
      "source": [
        "def doubling(x):\n",
        "    return x*2\n",
        "\n",
        "print(doubling(10))"
      ],
      "execution_count": 39,
      "outputs": [
        {
          "output_type": "stream",
          "text": [
            "20\n"
          ],
          "name": "stdout"
        }
      ]
    },
    {
      "cell_type": "code",
      "metadata": {
        "id": "cVLdPhDNt1Qs",
        "colab_type": "code",
        "outputId": "7094b733-77eb-4b91-daed-837fdb1b86e0",
        "colab": {
          "base_uri": "https://localhost:8080/",
          "height": 35
        }
      },
      "source": [
        "rdd.take(5)"
      ],
      "execution_count": 40,
      "outputs": [
        {
          "output_type": "execute_result",
          "data": {
            "text/plain": [
              "[510, 374, 720, 586, 962]"
            ]
          },
          "metadata": {
            "tags": []
          },
          "execution_count": 40
        }
      ]
    },
    {
      "cell_type": "code",
      "metadata": {
        "id": "FqAxyXPqt1Qu",
        "colab_type": "code",
        "outputId": "42d94a0e-ff58-4140-e65f-49eed817170a",
        "colab": {
          "base_uri": "https://localhost:8080/",
          "height": 35
        }
      },
      "source": [
        "rdd.map(doubling).take(5)"
      ],
      "execution_count": 41,
      "outputs": [
        {
          "output_type": "execute_result",
          "data": {
            "text/plain": [
              "[1020, 748, 1440, 1172, 1924]"
            ]
          },
          "metadata": {
            "tags": []
          },
          "execution_count": 41
        }
      ]
    },
    {
      "cell_type": "code",
      "metadata": {
        "id": "0FQiZbX3wFvf",
        "colab_type": "code",
        "colab": {}
      },
      "source": [
        "def minusone(y):\n",
        "  return y-1"
      ],
      "execution_count": 0,
      "outputs": []
    },
    {
      "cell_type": "code",
      "metadata": {
        "id": "tGwRUarGwVio",
        "colab_type": "code",
        "outputId": "5359712b-15b6-4bba-fc9f-9cec98a35217",
        "colab": {
          "base_uri": "https://localhost:8080/",
          "height": 35
        }
      },
      "source": [
        "rdd.map(minusone).take(5)"
      ],
      "execution_count": 43,
      "outputs": [
        {
          "output_type": "execute_result",
          "data": {
            "text/plain": [
              "[509, 373, 719, 585, 961]"
            ]
          },
          "metadata": {
            "tags": []
          },
          "execution_count": 43
        }
      ]
    },
    {
      "cell_type": "markdown",
      "metadata": {
        "id": "PCP1XQ-mt1Qx",
        "colab_type": "text"
      },
      "source": [
        "#### 注意：匿名函式的使用  \n",
        "    rdd.map(doubling) = rdd.map(lambda x: x*2)"
      ]
    },
    {
      "cell_type": "code",
      "metadata": {
        "id": "F00w0ISRhPck",
        "colab_type": "code",
        "outputId": "b624068a-fc79-44a0-ba04-5184a9cdbac0",
        "colab": {
          "base_uri": "https://localhost:8080/",
          "height": 35
        }
      },
      "source": [
        "rdd.map(lambda x: x-1).take(5)"
      ],
      "execution_count": 44,
      "outputs": [
        {
          "output_type": "execute_result",
          "data": {
            "text/plain": [
              "[509, 373, 719, 585, 961]"
            ]
          },
          "metadata": {
            "tags": []
          },
          "execution_count": 44
        }
      ]
    },
    {
      "cell_type": "code",
      "metadata": {
        "id": "paFPu3J9yUng",
        "colab_type": "code",
        "outputId": "b7f97b2e-cfdd-4021-c1dc-890c5a7d5e03",
        "colab": {
          "base_uri": "https://localhost:8080/",
          "height": 35
        }
      },
      "source": [
        "rdd.map(lambda yy:0).take(2)"
      ],
      "execution_count": 45,
      "outputs": [
        {
          "output_type": "execute_result",
          "data": {
            "text/plain": [
              "[0, 0]"
            ]
          },
          "metadata": {
            "tags": []
          },
          "execution_count": 45
        }
      ]
    },
    {
      "cell_type": "code",
      "metadata": {
        "id": "4Anc1mSLzEmp",
        "colab_type": "code",
        "outputId": "07ce5a71-8789-4ad8-bc56-ad506cfd3f92",
        "colab": {
          "base_uri": "https://localhost:8080/",
          "height": 35
        }
      },
      "source": [
        "rdd.map(lambda x: x-1).map(lambda x:x-2).map(lambda x:x-3).take(2)"
      ],
      "execution_count": 46,
      "outputs": [
        {
          "output_type": "execute_result",
          "data": {
            "text/plain": [
              "[504, 368]"
            ]
          },
          "metadata": {
            "tags": []
          },
          "execution_count": 46
        }
      ]
    },
    {
      "cell_type": "code",
      "metadata": {
        "id": "iJeJB9tNt1Qx",
        "colab_type": "code",
        "colab": {}
      },
      "source": [
        ""
      ],
      "execution_count": 0,
      "outputs": []
    },
    {
      "cell_type": "markdown",
      "metadata": {
        "id": "3rfUg7nrt1Q0",
        "colab_type": "text"
      },
      "source": [
        "#### 練習：使用map()，將所有數字開平方根 \n",
        "    import math\n",
        "    print math.sqrt(5)"
      ]
    },
    {
      "cell_type": "code",
      "metadata": {
        "id": "injnEU2Lt1Q1",
        "colab_type": "code",
        "outputId": "766f2bda-14df-4f82-ac19-0c72c6d04d22",
        "colab": {
          "base_uri": "https://localhost:8080/",
          "height": 35
        }
      },
      "source": [
        "import math\n",
        "rdd.map(lambda x: math.sqrt(x)).take(2)"
      ],
      "execution_count": 47,
      "outputs": [
        {
          "output_type": "execute_result",
          "data": {
            "text/plain": [
              "[22.58317958127243, 19.339079605813716]"
            ]
          },
          "metadata": {
            "tags": []
          },
          "execution_count": 47
        }
      ]
    },
    {
      "cell_type": "markdown",
      "metadata": {
        "id": "n7PtJhL1t1Q4",
        "colab_type": "text"
      },
      "source": [
        "#### 匿名函式的差異"
      ]
    },
    {
      "cell_type": "code",
      "metadata": {
        "id": "LTFiSaMdt1Q5",
        "colab_type": "code",
        "colab": {}
      },
      "source": [
        "import math\n",
        "def sqrt(x):\n",
        "    return math.sqrt(x)"
      ],
      "execution_count": 0,
      "outputs": []
    },
    {
      "cell_type": "code",
      "metadata": {
        "id": "2Cz3ZPi1iL06",
        "colab_type": "code",
        "outputId": "2bbb49bc-2067-415f-f376-348401eeae75",
        "colab": {
          "base_uri": "https://localhost:8080/",
          "height": 35
        }
      },
      "source": [
        "rdd.map(lambda y: math.sqrt(y)).take(2)"
      ],
      "execution_count": 49,
      "outputs": [
        {
          "output_type": "execute_result",
          "data": {
            "text/plain": [
              "[22.58317958127243, 19.339079605813716]"
            ]
          },
          "metadata": {
            "tags": []
          },
          "execution_count": 49
        }
      ]
    },
    {
      "cell_type": "markdown",
      "metadata": {
        "id": "zCnE4mS_iJ1m",
        "colab_type": "text"
      },
      "source": [
        ""
      ]
    },
    {
      "cell_type": "code",
      "metadata": {
        "id": "A75twst-t1Q7",
        "colab_type": "code",
        "outputId": "ce6e9ecd-19bd-43e2-8d65-c66ebc3dc482",
        "colab": {
          "base_uri": "https://localhost:8080/",
          "height": 35
        }
      },
      "source": [
        "rdd.map(sqrt).take(2)"
      ],
      "execution_count": 50,
      "outputs": [
        {
          "output_type": "execute_result",
          "data": {
            "text/plain": [
              "[22.58317958127243, 19.339079605813716]"
            ]
          },
          "metadata": {
            "tags": []
          },
          "execution_count": 50
        }
      ]
    },
    {
      "cell_type": "markdown",
      "metadata": {
        "id": "olf5dYNO1JP8",
        "colab_type": "text"
      },
      "source": [
        "# Transformation Operators: map(), filter(), sample(), groupBy(), etc \n",
        "## (完整Transformation Operator請參考下列網址) http://spark.apache.org/docs/2.1.0/api/python/pyspark.html#pyspark.RDD "
      ]
    },
    {
      "cell_type": "markdown",
      "metadata": {
        "id": "m-dnb6Vb-RnK",
        "colab_type": "text"
      },
      "source": [
        "rdd資料中有多少筆?"
      ]
    },
    {
      "cell_type": "code",
      "metadata": {
        "id": "qBhcOOPJ9sUa",
        "colab_type": "code",
        "colab": {
          "base_uri": "https://localhost:8080/",
          "height": 35
        },
        "outputId": "1e2aa983-0af0-4568-d29d-c904e1452fd2"
      },
      "source": [
        "rdd.map(lambda x:1).reduce(lambda x,y:x+y) "
      ],
      "execution_count": 51,
      "outputs": [
        {
          "output_type": "execute_result",
          "data": {
            "text/plain": [
              "1000"
            ]
          },
          "metadata": {
            "tags": []
          },
          "execution_count": 51
        }
      ]
    },
    {
      "cell_type": "code",
      "metadata": {
        "id": "952iKzm8-QqL",
        "colab_type": "code",
        "colab": {
          "base_uri": "https://localhost:8080/",
          "height": 35
        },
        "outputId": "930b1f44-3140-40e4-89d6-07d678240891"
      },
      "source": [
        "rdd.count()"
      ],
      "execution_count": 52,
      "outputs": [
        {
          "output_type": "execute_result",
          "data": {
            "text/plain": [
              "1000"
            ]
          },
          "metadata": {
            "tags": []
          },
          "execution_count": 52
        }
      ]
    },
    {
      "cell_type": "code",
      "metadata": {
        "id": "HMYWs-X-1Usl",
        "colab_type": "code",
        "colab": {
          "base_uri": "https://localhost:8080/",
          "height": 35
        },
        "outputId": "a0fd6dcc-8693-48ca-eed9-090284545f83"
      },
      "source": [
        "rdd.map(lambda x: x if x%2==0 else 0).reduce(lambda x,y:x+y)"
      ],
      "execution_count": 53,
      "outputs": [
        {
          "output_type": "execute_result",
          "data": {
            "text/plain": [
              "272842"
            ]
          },
          "metadata": {
            "tags": []
          },
          "execution_count": 53
        }
      ]
    },
    {
      "cell_type": "markdown",
      "metadata": {
        "id": "elsAvKXNt1Q-",
        "colab_type": "text"
      },
      "source": [
        "#### Transformation Operator 使用filter()，將所有偶數留下，奇數刪除。"
      ]
    },
    {
      "cell_type": "code",
      "metadata": {
        "id": "raH2ldfBt1Q-",
        "colab_type": "code",
        "outputId": "918d7bdf-456b-4203-9f41-d7784691a6e5",
        "colab": {
          "base_uri": "https://localhost:8080/",
          "height": 35
        }
      },
      "source": [
        "rdd.filter(lambda x: x%2==0).reduce(lambda x,y:x+y)"
      ],
      "execution_count": 54,
      "outputs": [
        {
          "output_type": "execute_result",
          "data": {
            "text/plain": [
              "272842"
            ]
          },
          "metadata": {
            "tags": []
          },
          "execution_count": 54
        }
      ]
    },
    {
      "cell_type": "markdown",
      "metadata": {
        "id": "uTLr4oJEt1RB",
        "colab_type": "text"
      },
      "source": [
        "#### Transformation Operator 使用sample( ) 抽樣給定比例之RDD子集合"
      ]
    },
    {
      "cell_type": "code",
      "metadata": {
        "id": "n7U8Q8G-t1RB",
        "colab_type": "code",
        "outputId": "a8e37afc-828b-47f1-b872-1686ae16e771",
        "colab": {
          "base_uri": "https://localhost:8080/",
          "height": 35
        }
      },
      "source": [
        "subsetrdd = rdd.sample(False, 0.01)\n",
        "subsetrdd.collect()"
      ],
      "execution_count": 55,
      "outputs": [
        {
          "output_type": "execute_result",
          "data": {
            "text/plain": [
              "[660, 896, 806, 30, 856, 208, 17, 680, 602]"
            ]
          },
          "metadata": {
            "tags": []
          },
          "execution_count": 55
        }
      ]
    },
    {
      "cell_type": "markdown",
      "metadata": {
        "id": "8jpIFRx3t1RE",
        "colab_type": "text"
      },
      "source": [
        "#### Transformation Operator: 使用 groupBy( ) 將資料分組"
      ]
    },
    {
      "cell_type": "code",
      "metadata": {
        "id": "jffxeQevt1RE",
        "colab_type": "code",
        "outputId": "e626e815-ad1f-4dd9-b050-9d4f6323f2fd",
        "colab": {
          "base_uri": "https://localhost:8080/",
          "height": 72
        }
      },
      "source": [
        "result = subsetrdd.groupBy(lambda x: x%2==0).collect()\n",
        "print(result)\n",
        "print([(x, list(y)) for (x, y) in result])"
      ],
      "execution_count": 56,
      "outputs": [
        {
          "output_type": "stream",
          "text": [
            "[(False, <pyspark.resultiterable.ResultIterable object at 0x7f975866a128>), (True, <pyspark.resultiterable.ResultIterable object at 0x7f9758d19898>)]\n",
            "[(False, [17]), (True, [660, 896, 806, 30, 856, 208, 680, 602])]\n"
          ],
          "name": "stdout"
        }
      ]
    },
    {
      "cell_type": "code",
      "metadata": {
        "id": "fmcD3Rb41HDj",
        "colab_type": "code",
        "colab": {}
      },
      "source": [
        ""
      ],
      "execution_count": 0,
      "outputs": []
    },
    {
      "cell_type": "markdown",
      "metadata": {
        "id": "dhVPws5qt1RG",
        "colab_type": "text"
      },
      "source": [
        "#### Transformation Operator 使用map ( ) 產生 key value pair"
      ]
    },
    {
      "cell_type": "code",
      "metadata": {
        "id": "-eo0RYkqt1RH",
        "colab_type": "code",
        "colab": {}
      },
      "source": [
        "keyValueRdd = rdd.map(lambda x: ('even', x) if x%2==0 else ('odd',x))\n"
      ],
      "execution_count": 0,
      "outputs": []
    },
    {
      "cell_type": "code",
      "metadata": {
        "id": "v7s_mWe6_-ab",
        "colab_type": "code",
        "outputId": "6b3ee21a-cf5d-4696-8b50-63a713d71e49",
        "colab": {
          "base_uri": "https://localhost:8080/",
          "height": 35
        }
      },
      "source": [
        "rdd.map(lambda x: ('even', x) if x%2==0 else ('odd',x))\\\n",
        "   .reduceByKey(lambda x,y: x+y)\\\n",
        "   .take(2)"
      ],
      "execution_count": 58,
      "outputs": [
        {
          "output_type": "execute_result",
          "data": {
            "text/plain": [
              "[('even', 272842), ('odd', 239159)]"
            ]
          },
          "metadata": {
            "tags": []
          },
          "execution_count": 58
        }
      ]
    },
    {
      "cell_type": "code",
      "metadata": {
        "id": "KjpBTvuY6kJr",
        "colab_type": "code",
        "colab": {}
      },
      "source": [
        "def evennumber(x):\n",
        "  if x%2==0:\n",
        "    return x\n",
        "  else:\n",
        "    return 0"
      ],
      "execution_count": 0,
      "outputs": []
    },
    {
      "cell_type": "code",
      "metadata": {
        "id": "WP-RPBA36wYD",
        "colab_type": "code",
        "outputId": "cb130066-7e6f-4f03-8fad-63dbc51bad89",
        "colab": {
          "base_uri": "https://localhost:8080/",
          "height": 35
        }
      },
      "source": [
        "evennumber(101)"
      ],
      "execution_count": 60,
      "outputs": [
        {
          "output_type": "execute_result",
          "data": {
            "text/plain": [
              "0"
            ]
          },
          "metadata": {
            "tags": []
          },
          "execution_count": 60
        }
      ]
    },
    {
      "cell_type": "code",
      "metadata": {
        "id": "w5hM0Gow7WOl",
        "colab_type": "code",
        "colab": {
          "base_uri": "https://localhost:8080/",
          "height": 89
        },
        "outputId": "09c12f9e-d074-4737-f462-7e29dd8fe5de"
      },
      "source": [
        "rdd.reduce(lambda x,y: x*x+y*y)"
      ],
      "execution_count": 61,
      "outputs": [
        {
          "output_type": "stream",
          "text": [
            "/usr/local/lib/python3.6/dist-packages/ipykernel_launcher.py:1: RuntimeWarning: overflow encountered in long_scalars\n",
            "  \"\"\"Entry point for launching an IPython kernel.\n"
          ],
          "name": "stderr"
        },
        {
          "output_type": "execute_result",
          "data": {
            "text/plain": [
              "4026203332964938841"
            ]
          },
          "metadata": {
            "tags": []
          },
          "execution_count": 61
        }
      ]
    },
    {
      "cell_type": "code",
      "metadata": {
        "id": "TBWfbG8S60vF",
        "colab_type": "code",
        "outputId": "96b99836-2998-4d1a-830b-c5e99de68a37",
        "colab": {
          "base_uri": "https://localhost:8080/",
          "height": 35
        }
      },
      "source": [
        "rdd.map(evennumber).reduce(lambda x,y:x+y)"
      ],
      "execution_count": 62,
      "outputs": [
        {
          "output_type": "execute_result",
          "data": {
            "text/plain": [
              "272842"
            ]
          },
          "metadata": {
            "tags": []
          },
          "execution_count": 62
        }
      ]
    },
    {
      "cell_type": "code",
      "metadata": {
        "id": "ipn1B9MJ3xND",
        "colab_type": "code",
        "outputId": "760b12c4-da90-4f80-f21a-7843f4a16220",
        "colab": {
          "base_uri": "https://localhost:8080/",
          "height": 35
        }
      },
      "source": [
        "rdd.map(lambda x: x if x%2==0 else 0).reduce(lambda x,y:x+y)\n"
      ],
      "execution_count": 63,
      "outputs": [
        {
          "output_type": "execute_result",
          "data": {
            "text/plain": [
              "272842"
            ]
          },
          "metadata": {
            "tags": []
          },
          "execution_count": 63
        }
      ]
    },
    {
      "cell_type": "markdown",
      "metadata": {
        "id": "ergjRAqbt1RI",
        "colab_type": "text"
      },
      "source": [
        "#### Transformation Operator: 使用 groupbyKey ( ) 根據key將資料分組"
      ]
    },
    {
      "cell_type": "code",
      "metadata": {
        "id": "0lU_2LrIt1RJ",
        "colab_type": "code",
        "outputId": "84e4d51a-67fd-4f0b-e6bb-8cab7459d631",
        "colab": {
          "base_uri": "https://localhost:8080/",
          "height": 72
        }
      },
      "source": [
        "\n",
        "keyValueRdd = rdd.map(lambda x: ('even', x) if x%2==0 else ('odd',x))\n",
        "\n",
        "for x in keyValueRdd.groupByKey().collect():\n",
        "    print (x[0], list(x[1]))"
      ],
      "execution_count": 65,
      "outputs": [
        {
          "output_type": "stream",
          "text": [
            "even [510, 374, 720, 586, 962, 994, 660, 376, 906, 710, 472, 782, 268, 580, 34, 470, 762, 166, 468, 474, 390, 528, 610, 314, 56, 594, 378, 716, 70, 984, 504, 924, 664, 698, 14, 700, 518, 484, 882, 312, 688, 298, 544, 538, 792, 782, 444, 942, 86, 494, 116, 364, 782, 552, 116, 608, 116, 230, 58, 494, 34, 744, 266, 126, 902, 526, 128, 558, 548, 502, 776, 862, 358, 940, 440, 244, 594, 942, 488, 568, 740, 666, 164, 424, 86, 344, 648, 796, 906, 886, 724, 712, 762, 236, 842, 484, 880, 588, 200, 238, 202, 936, 70, 396, 912, 642, 754, 616, 986, 578, 922, 882, 194, 412, 166, 724, 280, 390, 48, 642, 536, 952, 252, 0, 56, 670, 446, 584, 736, 244, 438, 826, 228, 352, 552, 494, 314, 322, 958, 694, 592, 622, 762, 686, 272, 514, 610, 110, 288, 894, 112, 746, 876, 370, 950, 960, 992, 206, 354, 750, 768, 750, 292, 928, 612, 378, 946, 196, 720, 600, 562, 812, 224, 810, 980, 204, 174, 866, 332, 826, 234, 896, 738, 482, 200, 440, 222, 326, 536, 344, 694, 952, 354, 888, 176, 480, 576, 884, 298, 382, 806, 774, 934, 170, 664, 354, 182, 274, 202, 468, 870, 520, 896, 878, 226, 440, 224, 90, 160, 244, 220, 802, 432, 728, 48, 508, 76, 480, 306, 432, 236, 880, 630, 250, 86, 62, 552, 58, 998, 318, 298, 592, 560, 852, 804, 604, 528, 384, 418, 596, 246, 776, 990, 416, 52, 392, 544, 734, 336, 572, 158, 198, 34, 690, 402, 702, 384, 270, 890, 388, 736, 30, 256, 50, 420, 132, 528, 844, 554, 272, 682, 316, 606, 766, 480, 802, 336, 220, 434, 708, 74, 414, 912, 732, 928, 592, 768, 512, 134, 252, 288, 590, 354, 772, 252, 698, 984, 866, 980, 956, 642, 888, 456, 480, 304, 516, 232, 344, 658, 784, 600, 986, 422, 320, 970, 124, 664, 552, 348, 988, 462, 462, 968, 654, 326, 322, 390, 954, 352, 888, 828, 616, 440, 60, 490, 536, 560, 842, 750, 324, 918, 2, 592, 870, 266, 674, 856, 510, 654, 706, 580, 850, 140, 250, 816, 952, 282, 568, 238, 526, 580, 42, 208, 878, 932, 8, 40, 24, 392, 380, 18, 100, 778, 180, 706, 978, 792, 284, 234, 596, 258, 198, 816, 896, 284, 294, 270, 382, 608, 888, 662, 968, 798, 876, 386, 438, 818, 304, 924, 838, 596, 468, 238, 240, 676, 772, 500, 596, 748, 956, 908, 842, 550, 420, 682, 492, 496, 532, 746, 964, 68, 936, 718, 946, 172, 964, 126, 40, 394, 670, 78, 194, 58, 504, 60, 326, 924, 816, 82, 312, 440, 294, 274, 754, 826, 712, 680, 646, 458, 138, 168, 622, 102, 952, 564, 856, 330, 220, 442, 80, 860, 176, 992, 422, 134, 692, 878, 122, 144, 880, 416, 360, 932, 774, 366, 530, 880, 570, 754, 936, 62, 330, 802, 226, 812, 790, 156, 946, 786, 450, 778, 516, 220, 230, 358, 38, 706, 6, 328, 270, 84, 378, 644, 712, 672, 974, 256, 540, 86, 264, 580, 736, 246, 54, 602, 332, 196, 438, 42]\n",
            "odd [661, 23, 563, 763, 663, 711, 299, 291, 323, 843, 533, 891, 473, 695, 709, 575, 555, 435, 577, 151, 269, 795, 843, 963, 657, 439, 611, 649, 615, 541, 209, 275, 649, 525, 705, 617, 283, 943, 121, 435, 925, 783, 99, 857, 587, 403, 295, 891, 785, 819, 817, 439, 465, 95, 943, 411, 75, 167, 851, 757, 643, 43, 785, 113, 511, 79, 651, 799, 49, 633, 915, 711, 45, 363, 227, 709, 623, 375, 963, 953, 667, 385, 739, 329, 627, 785, 299, 15, 605, 673, 31, 707, 819, 259, 637, 453, 103, 423, 61, 57, 101, 219, 915, 411, 253, 631, 881, 395, 211, 705, 209, 751, 351, 261, 397, 609, 39, 481, 983, 367, 23, 315, 85, 203, 551, 891, 923, 503, 859, 681, 997, 37, 699, 343, 389, 807, 227, 993, 1, 223, 563, 121, 615, 751, 53, 631, 409, 53, 835, 883, 503, 399, 915, 385, 411, 693, 211, 303, 21, 195, 457, 223, 533, 553, 771, 101, 607, 7, 981, 951, 917, 829, 775, 835, 523, 111, 535, 493, 141, 467, 683, 907, 483, 875, 379, 663, 83, 199, 857, 299, 969, 67, 263, 121, 977, 657, 987, 837, 769, 627, 687, 787, 407, 983, 43, 139, 345, 183, 455, 557, 121, 275, 415, 975, 197, 693, 547, 513, 175, 929, 323, 219, 927, 559, 427, 473, 297, 27, 221, 273, 335, 961, 653, 423, 649, 315, 511, 579, 959, 589, 243, 547, 901, 149, 711, 49, 483, 633, 631, 347, 491, 629, 743, 729, 805, 653, 865, 87, 279, 169, 441, 783, 743, 453, 567, 223, 535, 499, 773, 725, 539, 761, 3, 855, 159, 73, 73, 919, 873, 387, 377, 103, 663, 721, 673, 601, 985, 67, 899, 245, 9, 373, 873, 339, 55, 63, 815, 283, 727, 675, 519, 691, 389, 355, 311, 821, 153, 539, 497, 169, 611, 157, 869, 373, 411, 539, 19, 437, 357, 445, 981, 823, 741, 115, 111, 907, 757, 569, 359, 833, 949, 953, 437, 495, 233, 3, 687, 95, 727, 943, 873, 761, 601, 389, 581, 755, 951, 945, 261, 681, 575, 609, 335, 487, 95, 523, 697, 155, 215, 861, 13, 967, 943, 701, 193, 811, 505, 243, 667, 741, 673, 17, 565, 429, 389, 323, 23, 409, 19, 881, 59, 321, 361, 829, 117, 269, 421, 367, 807, 253, 613, 951, 477, 691, 775, 343, 487, 591, 989, 285, 607, 207, 103, 733, 445, 227, 245, 219, 455, 471, 157, 103, 955, 679, 557, 459, 613, 969, 651, 377, 449, 387, 983, 629, 955, 463, 145, 651, 997, 503, 949, 347, 307, 985, 439, 73, 653, 695, 401, 165, 877, 813, 275, 161, 693, 45, 69, 871, 769, 981, 727, 283, 531, 33, 193, 185, 895, 643, 507, 519, 493, 751, 405, 729, 443, 579, 757, 3, 745, 499, 221]\n"
          ],
          "name": "stdout"
        }
      ]
    },
    {
      "cell_type": "markdown",
      "metadata": {
        "id": "2cF4eO2ht1RL",
        "colab_type": "text"
      },
      "source": [
        "\n",
        "###練習 計算奇數加總值與偶數加總值\n",
        "#### groupbyKey(), reduceByKey()"
      ]
    },
    {
      "cell_type": "code",
      "metadata": {
        "id": "JvI54vHQt1RL",
        "colab_type": "code",
        "outputId": "6121f081-07ab-4e6f-893a-7bda62106875",
        "colab": {
          "base_uri": "https://localhost:8080/",
          "height": 35
        }
      },
      "source": [
        "keyValueRdd.reduceByKey(lambda x,y: x+y).take(2)"
      ],
      "execution_count": 66,
      "outputs": [
        {
          "output_type": "execute_result",
          "data": {
            "text/plain": [
              "[('even', 272842), ('odd', 239159)]"
            ]
          },
          "metadata": {
            "tags": []
          },
          "execution_count": 66
        }
      ]
    },
    {
      "cell_type": "code",
      "metadata": {
        "id": "2zt-atriGcY1",
        "colab_type": "code",
        "outputId": "f94d448c-b86d-4274-edab-f1e35d25a806",
        "colab": {
          "base_uri": "https://localhost:8080/",
          "height": 35
        }
      },
      "source": [
        "rdd.map(lambda x: (x,1)).reduceByKey(lambda a,b:a+b).take(5)"
      ],
      "execution_count": 67,
      "outputs": [
        {
          "output_type": "execute_result",
          "data": {
            "text/plain": [
              "[(510, 2), (374, 1), (720, 2), (586, 1), (962, 1)]"
            ]
          },
          "metadata": {
            "tags": []
          },
          "execution_count": 67
        }
      ]
    },
    {
      "cell_type": "markdown",
      "metadata": {
        "id": "GeI84meUt1Re",
        "colab_type": "text"
      },
      "source": [
        "___\n",
        "___\n",
        "___\n",
        "\n",
        "\n",
        "# RDD Action Action Operation\n",
        "#### 使用reduce()，計算所有數之加總值。"
      ]
    },
    {
      "cell_type": "code",
      "metadata": {
        "id": "YML9Ihvet1Re",
        "colab_type": "code",
        "outputId": "4627e6aa-36f0-4f9e-942e-c8e2effcce07",
        "colab": {
          "base_uri": "https://localhost:8080/",
          "height": 35
        }
      },
      "source": [
        "rdd.reduce(lambda x,y: x+y )"
      ],
      "execution_count": 68,
      "outputs": [
        {
          "output_type": "execute_result",
          "data": {
            "text/plain": [
              "512001"
            ]
          },
          "metadata": {
            "tags": []
          },
          "execution_count": 68
        }
      ]
    },
    {
      "cell_type": "code",
      "metadata": {
        "id": "K7VhWlCUfIrn",
        "colab_type": "code",
        "colab": {
          "base_uri": "https://localhost:8080/",
          "height": 89
        },
        "outputId": "9fd25604-3714-49b8-e3b1-2745a0ba2502"
      },
      "source": [
        "rdd.reduce(lambda x,y: x*x+y*y)"
      ],
      "execution_count": 69,
      "outputs": [
        {
          "output_type": "stream",
          "text": [
            "/usr/local/lib/python3.6/dist-packages/ipykernel_launcher.py:1: RuntimeWarning: overflow encountered in long_scalars\n",
            "  \"\"\"Entry point for launching an IPython kernel.\n"
          ],
          "name": "stderr"
        },
        {
          "output_type": "execute_result",
          "data": {
            "text/plain": [
              "4026203332964938841"
            ]
          },
          "metadata": {
            "tags": []
          },
          "execution_count": 69
        }
      ]
    },
    {
      "cell_type": "code",
      "metadata": {
        "id": "GYMr5QHb0Isc",
        "colab_type": "code",
        "outputId": "33d49332-73fd-4f00-b523-42f9aab22ccd",
        "colab": {
          "base_uri": "https://localhost:8080/",
          "height": 35
        }
      },
      "source": [
        "rdd.map(lambda x:1).reduce(lambda a,b:a+b)"
      ],
      "execution_count": 70,
      "outputs": [
        {
          "output_type": "execute_result",
          "data": {
            "text/plain": [
              "1000"
            ]
          },
          "metadata": {
            "tags": []
          },
          "execution_count": 70
        }
      ]
    },
    {
      "cell_type": "code",
      "metadata": {
        "id": "vjiNSGoD0p1r",
        "colab_type": "code",
        "colab": {}
      },
      "source": [
        ""
      ],
      "execution_count": 0,
      "outputs": []
    },
    {
      "cell_type": "markdown",
      "metadata": {
        "id": "OQWCsi3Nt1Rq",
        "colab_type": "text"
      },
      "source": [
        "______\n",
        "\n",
        "## 觀念\n",
        "### 練習：計算所有數字平方和。"
      ]
    },
    {
      "cell_type": "code",
      "metadata": {
        "id": "4cFvuXYX2iA7",
        "colab_type": "code",
        "outputId": "d688e4f8-579f-42af-99bb-54cc89e60918",
        "colab": {
          "base_uri": "https://localhost:8080/",
          "height": 0
        }
      },
      "source": [
        "rdd.map(lambda x: x*x).reduce(lambda x,y: x+y)"
      ],
      "execution_count": 71,
      "outputs": [
        {
          "output_type": "execute_result",
          "data": {
            "text/plain": [
              "342220915"
            ]
          },
          "metadata": {
            "tags": []
          },
          "execution_count": 71
        }
      ]
    },
    {
      "cell_type": "markdown",
      "metadata": {
        "id": "6rJDXbsZt1Rr",
        "colab_type": "text"
      },
      "source": [
        "## 練習：使用map(), reduceByKey()，計算所有數字出現頻率。"
      ]
    },
    {
      "cell_type": "code",
      "metadata": {
        "id": "z13lFWqgt1Rr",
        "colab_type": "code",
        "outputId": "0e1adc03-b466-4e3f-879c-23f9bc309be8",
        "colab": {
          "base_uri": "https://localhost:8080/",
          "height": 0
        }
      },
      "source": [
        "rdd.map(lambda x: (x,1)).reduceByKey(lambda a,b:a+b)"
      ],
      "execution_count": 72,
      "outputs": [
        {
          "output_type": "execute_result",
          "data": {
            "text/plain": [
              "PythonRDD[75] at RDD at PythonRDD.scala:48"
            ]
          },
          "metadata": {
            "tags": []
          },
          "execution_count": 72
        }
      ]
    },
    {
      "cell_type": "markdown",
      "metadata": {
        "id": "0N__bRU5t1Rv",
        "colab_type": "text"
      },
      "source": [
        "_____\n",
        "_____\n",
        "_____\n",
        "\n",
        "# WordCount"
      ]
    },
    {
      "cell_type": "code",
      "metadata": {
        "id": "R_cMDKMet1Rx",
        "colab_type": "code",
        "colab": {
          "base_uri": "https://localhost:8080/",
          "height": 384
        },
        "outputId": "f40032e4-58aa-47e1-a213-d564ab799fad"
      },
      "source": [
        "!wget -O speech \"https://www.dropbox.com/s/28ljfwb1aeuyi37/speech.txt?dl=1\""
      ],
      "execution_count": 76,
      "outputs": [
        {
          "output_type": "stream",
          "text": [
            "--2019-10-03 06:15:40--  https://www.dropbox.com/s/28ljfwb1aeuyi37/speech.txt?dl=1\n",
            "Resolving www.dropbox.com (www.dropbox.com)... 162.125.8.1, 2620:100:6016:1::a27d:101\n",
            "Connecting to www.dropbox.com (www.dropbox.com)|162.125.8.1|:443... connected.\n",
            "HTTP request sent, awaiting response... 301 Moved Permanently\n",
            "Location: /s/dl/28ljfwb1aeuyi37/speech.txt [following]\n",
            "--2019-10-03 06:15:40--  https://www.dropbox.com/s/dl/28ljfwb1aeuyi37/speech.txt\n",
            "Reusing existing connection to www.dropbox.com:443.\n",
            "HTTP request sent, awaiting response... 302 Found\n",
            "Location: https://ucf0a0591c83493d4d552b972e0a.dl.dropboxusercontent.com/cd/0/get/Apva9ida2H2pVt6GZv7qLM0kQe0gOJGtTfITWp-Kpqvj_1DhmurDgImOm55QqCRj-ciBSdkC-UhLhO-ORQHdWYyhYpu91TOcKcPl2eiooCpCQw/file?dl=1# [following]\n",
            "--2019-10-03 06:15:40--  https://ucf0a0591c83493d4d552b972e0a.dl.dropboxusercontent.com/cd/0/get/Apva9ida2H2pVt6GZv7qLM0kQe0gOJGtTfITWp-Kpqvj_1DhmurDgImOm55QqCRj-ciBSdkC-UhLhO-ORQHdWYyhYpu91TOcKcPl2eiooCpCQw/file?dl=1\n",
            "Resolving ucf0a0591c83493d4d552b972e0a.dl.dropboxusercontent.com (ucf0a0591c83493d4d552b972e0a.dl.dropboxusercontent.com)... 162.125.1.6, 2620:100:601b:6::a27d:806\n",
            "Connecting to ucf0a0591c83493d4d552b972e0a.dl.dropboxusercontent.com (ucf0a0591c83493d4d552b972e0a.dl.dropboxusercontent.com)|162.125.1.6|:443... connected.\n",
            "HTTP request sent, awaiting response... 200 OK\n",
            "Length: 21601 (21K) [application/binary]\n",
            "Saving to: ‘speech’\n",
            "\n",
            "speech              100%[===================>]  21.09K  --.-KB/s    in 0.007s  \n",
            "\n",
            "2019-10-03 06:15:40 (2.85 MB/s) - ‘speech’ saved [21601/21601]\n",
            "\n"
          ],
          "name": "stdout"
        }
      ]
    },
    {
      "cell_type": "code",
      "metadata": {
        "id": "xsHULr-xt1Ry",
        "colab_type": "code",
        "colab": {}
      },
      "source": [
        "data_file = \"./speech\""
      ],
      "execution_count": 0,
      "outputs": []
    },
    {
      "cell_type": "code",
      "metadata": {
        "id": "qiBihzxpakdB",
        "colab_type": "code",
        "colab": {}
      },
      "source": [
        ""
      ],
      "execution_count": 0,
      "outputs": []
    },
    {
      "cell_type": "code",
      "metadata": {
        "id": "wmkX3FKlt1R0",
        "colab_type": "code",
        "colab": {}
      },
      "source": [
        "text_file = sc.textFile(data_file)"
      ],
      "execution_count": 0,
      "outputs": []
    },
    {
      "cell_type": "code",
      "metadata": {
        "id": "SzhZOO8B54_d",
        "colab_type": "code",
        "outputId": "67164f12-40a9-437a-91a7-a29ab81e17f7",
        "colab": {
          "base_uri": "https://localhost:8080/",
          "height": 35
        }
      },
      "source": [
        "print(type(text_file))"
      ],
      "execution_count": 79,
      "outputs": [
        {
          "output_type": "stream",
          "text": [
            "<class 'pyspark.rdd.RDD'>\n"
          ],
          "name": "stdout"
        }
      ]
    },
    {
      "cell_type": "code",
      "metadata": {
        "id": "Ucnc2gbbdKuG",
        "colab_type": "code",
        "outputId": "99b7317e-9a5b-4c0a-9b0b-f177d18733ed",
        "colab": {
          "base_uri": "https://localhost:8080/",
          "height": 35
        }
      },
      "source": [
        "text_file.map(lambda line: line.split(\" \")).count()"
      ],
      "execution_count": 80,
      "outputs": [
        {
          "output_type": "execute_result",
          "data": {
            "text/plain": [
              "89"
            ]
          },
          "metadata": {
            "tags": []
          },
          "execution_count": 80
        }
      ]
    },
    {
      "cell_type": "code",
      "metadata": {
        "id": "JlZxjR_sda8D",
        "colab_type": "code",
        "outputId": "74cedee7-29ac-4234-e5ed-ea335d94731a",
        "colab": {
          "base_uri": "https://localhost:8080/",
          "height": 35
        }
      },
      "source": [
        "text_file.flatMap(lambda line: line.split(\" \")).count()"
      ],
      "execution_count": 81,
      "outputs": [
        {
          "output_type": "execute_result",
          "data": {
            "text/plain": [
              "3776"
            ]
          },
          "metadata": {
            "tags": []
          },
          "execution_count": 81
        }
      ]
    },
    {
      "cell_type": "code",
      "metadata": {
        "id": "NAIpNQIFt1R2",
        "colab_type": "code",
        "outputId": "e7e937d7-0abb-4574-b4b0-ea77c543cd35",
        "colab": {
          "base_uri": "https://localhost:8080/",
          "height": 191
        }
      },
      "source": [
        "wordcountsRDD = text_file.flatMap(lambda line: line.split(\" \")) \\\n",
        "             .map(lambda word: (word, 1)) \\\n",
        "             .reduceByKey(lambda a, b: a + b)\n",
        "wordcountsRDD.take(10)\n"
      ],
      "execution_count": 82,
      "outputs": [
        {
          "output_type": "execute_result",
          "data": {
            "text/plain": [
              "[('各位', 3),\n",
              " ('友邦', 2),\n",
              " ('的', 292),\n",
              " ('元首', 2),\n",
              " ('與', 37),\n",
              " ('各國', 3),\n",
              " ('駐台', 1),\n",
              " ('使節', 1),\n",
              " ('及', 14),\n",
              " ('現場', 2)]"
            ]
          },
          "metadata": {
            "tags": []
          },
          "execution_count": 82
        }
      ]
    },
    {
      "cell_type": "code",
      "metadata": {
        "id": "sqSJXuJ0Qwka",
        "colab_type": "code",
        "colab": {
          "base_uri": "https://localhost:8080/",
          "height": 191
        },
        "outputId": "4a4d46df-2f85-42c7-dcb6-0ccfda5f3408"
      },
      "source": [
        "wordcountsRDD.take(10)"
      ],
      "execution_count": 84,
      "outputs": [
        {
          "output_type": "execute_result",
          "data": {
            "text/plain": [
              "[('各位', 3),\n",
              " ('友邦', 2),\n",
              " ('的', 292),\n",
              " ('元首', 2),\n",
              " ('與', 37),\n",
              " ('各國', 3),\n",
              " ('駐台', 1),\n",
              " ('使節', 1),\n",
              " ('及', 14),\n",
              " ('現場', 2)]"
            ]
          },
          "metadata": {
            "tags": []
          },
          "execution_count": 84
        }
      ]
    },
    {
      "cell_type": "markdown",
      "metadata": {
        "id": "kLRha3Eet1R4",
        "colab_type": "text"
      },
      "source": [
        "#### 根據字元符號順序做排序"
      ]
    },
    {
      "cell_type": "code",
      "metadata": {
        "id": "rngFUG_0t1R6",
        "colab_type": "code",
        "outputId": "a42c50e5-1bf4-431d-cb4c-10150e67f9c2",
        "colab": {
          "base_uri": "https://localhost:8080/",
          "height": 35
        }
      },
      "source": [
        "text_file = sc.textFile(data_file)\n",
        "counts = text_file.flatMap(lambda line: line.split(\" \")) \\\n",
        "             .map(lambda word: (word, 1)) \\\n",
        "             .reduceByKey(lambda a, b: a + b).sortByKey()\n",
        "counts.take(5)"
      ],
      "execution_count": 85,
      "outputs": [
        {
          "output_type": "execute_result",
          "data": {
            "text/plain": [
              "[('', 228), ('1992', 2), ('1996', 1), ('20', 4), ('2016', 1)]"
            ]
          },
          "metadata": {
            "tags": []
          },
          "execution_count": 85
        }
      ]
    },
    {
      "cell_type": "markdown",
      "metadata": {
        "id": "62tc3XbHt1R7",
        "colab_type": "text"
      },
      "source": [
        "#### 出現頻率做排序"
      ]
    },
    {
      "cell_type": "code",
      "metadata": {
        "id": "KeUmGmNJt1R8",
        "colab_type": "code",
        "outputId": "8bbea2cb-fb2f-4e9a-d28a-8b7fd62d3c40",
        "colab": {
          "base_uri": "https://localhost:8080/",
          "height": 364
        }
      },
      "source": [
        "text_file = sc.textFile(data_file)\n",
        "\n",
        "counts = text_file.flatMap(lambda line: line.split(\" \")) \\\n",
        "             .map(lambda word: (word, 1)) \\\n",
        "             .reduceByKey(lambda a, b: a + b)\\\n",
        "             .sortBy(lambda x: x[1], ascending=False)\n",
        "\n",
        "counts.take(20)\n",
        "\n"
      ],
      "execution_count": 87,
      "outputs": [
        {
          "output_type": "execute_result",
          "data": {
            "text/plain": [
              "[('，', 336),\n",
              " ('的', 292),\n",
              " ('', 228),\n",
              " ('。', 159),\n",
              " ('我們', 86),\n",
              " ('、', 59),\n",
              " ('台灣', 39),\n",
              " ('與', 37),\n",
              " ('在', 33),\n",
              " ('國家', 32),\n",
              " ('和', 31),\n",
              " ('一個', 29),\n",
              " ('新政府', 27),\n",
              " ('是', 27),\n",
              " ('要', 25),\n",
              " ('經濟', 25),\n",
              " ('這個', 25),\n",
              " ('讓', 24),\n",
              " ('會', 24),\n",
              " ('也', 22)]"
            ]
          },
          "metadata": {
            "tags": []
          },
          "execution_count": 87
        }
      ]
    },
    {
      "cell_type": "markdown",
      "metadata": {
        "id": "sQasOGYAt1R_",
        "colab_type": "text"
      },
      "source": [
        "#### map 與 flatMap的差異"
      ]
    },
    {
      "cell_type": "code",
      "metadata": {
        "id": "TKZtTRUXt1R_",
        "colab_type": "code",
        "outputId": "977a119f-2711-4a05-d7e3-701687f37486",
        "colab": {
          "base_uri": "https://localhost:8080/",
          "height": 503
        }
      },
      "source": [
        "text_file = sc.textFile(data_file)\n",
        "counts = text_file.map(lambda line: line.split(\" \"))\n",
        "counts.take(1)\n"
      ],
      "execution_count": 88,
      "outputs": [
        {
          "output_type": "execute_result",
          "data": {
            "text/plain": [
              "[['各位',\n",
              "  '友邦',\n",
              "  '的',\n",
              "  '元首',\n",
              "  '與',\n",
              "  '貴賓',\n",
              "  '、',\n",
              "  '各國',\n",
              "  '駐台',\n",
              "  '使節',\n",
              "  '及',\n",
              "  '代表',\n",
              "  '、',\n",
              "  '現場',\n",
              "  '的',\n",
              "  '好',\n",
              "  '朋友',\n",
              "  '，',\n",
              "  '全體',\n",
              "  '國人',\n",
              "  '同胞',\n",
              "  '，',\n",
              "  '大家',\n",
              "  '好',\n",
              "  '。',\n",
              "  '',\n",
              "  '',\n",
              "  '']]"
            ]
          },
          "metadata": {
            "tags": []
          },
          "execution_count": 88
        }
      ]
    },
    {
      "cell_type": "code",
      "metadata": {
        "id": "tDvjL-8Tt1SC",
        "colab_type": "code",
        "outputId": "ffdd2acf-22e7-4827-a2c4-b21880bd10dc",
        "colab": {
          "base_uri": "https://localhost:8080/",
          "height": 35
        }
      },
      "source": [
        "text_file = sc.textFile(data_file)\n",
        "counts = text_file.flatMap(lambda line: line.split(\" \"))\n",
        "counts.take(1)"
      ],
      "execution_count": 89,
      "outputs": [
        {
          "output_type": "execute_result",
          "data": {
            "text/plain": [
              "['各位']"
            ]
          },
          "metadata": {
            "tags": []
          },
          "execution_count": 89
        }
      ]
    },
    {
      "cell_type": "code",
      "metadata": {
        "id": "sKvDFz9rKk94",
        "colab_type": "code",
        "outputId": "ce71a166-0df0-469c-e24d-db10fd633aa2",
        "colab": {
          "base_uri": "https://localhost:8080/",
          "height": 35
        }
      },
      "source": [
        "rdd.map(lambda x: x if x>500 else 0).reduce(lambda x,y:x+y)"
      ],
      "execution_count": 90,
      "outputs": [
        {
          "output_type": "execute_result",
          "data": {
            "text/plain": [
              "386045"
            ]
          },
          "metadata": {
            "tags": []
          },
          "execution_count": 90
        }
      ]
    },
    {
      "cell_type": "markdown",
      "metadata": {
        "id": "QVX1K9rvt1SE",
        "colab_type": "text"
      },
      "source": [
        "\n",
        "____\n",
        "____\n",
        "____\n",
        "# pi-estimation "
      ]
    },
    {
      "cell_type": "code",
      "metadata": {
        "id": "7qJCgsskt1SE",
        "colab_type": "code",
        "outputId": "5e2cc88c-290a-4e3a-e48f-02309b301e6d",
        "colab": {
          "base_uri": "https://localhost:8080/",
          "height": 35
        }
      },
      "source": [
        "import random\n",
        "\n",
        "def sample(p):\n",
        "    x, y = random.random(), random.random()\n",
        "    return 1 if x*x + y*y < 1 else 0\n",
        "\n",
        "count = sc.parallelize(range(0, 10000000)).map(sample) \\\n",
        "             .reduce(lambda a, b: a + b)\n",
        "print (\"Pi is roughly %f\" % (4.0 * count / 10000000))"
      ],
      "execution_count": 93,
      "outputs": [
        {
          "output_type": "stream",
          "text": [
            "Pi is roughly 3.141906\n"
          ],
          "name": "stdout"
        }
      ]
    },
    {
      "cell_type": "code",
      "metadata": {
        "id": "OAQNfVent1SF",
        "colab_type": "code",
        "outputId": "3e1f7b54-da1b-41f2-895d-d097bb7e4032",
        "colab": {
          "base_uri": "https://localhost:8080/",
          "height": 35
        }
      },
      "source": [
        "count = sc.parallelize(range(0, 1000000))\\\n",
        "        .map(lambda p: 1 if (random.random()**2 + random.random()**2)<1 else 0) \\\n",
        "        .reduce(lambda a, b: a + b)\n",
        "print (\"Pi is roughly %f\" % (4.0 * count / 1000000))"
      ],
      "execution_count": 96,
      "outputs": [
        {
          "output_type": "stream",
          "text": [
            "Pi is roughly 3.141936\n"
          ],
          "name": "stdout"
        }
      ]
    },
    {
      "cell_type": "markdown",
      "metadata": {
        "id": "WXI8RPNEt1SH",
        "colab_type": "text"
      },
      "source": [
        "___\n",
        "___\n",
        "___\n",
        "\n",
        "# Text Search Example"
      ]
    },
    {
      "cell_type": "code",
      "metadata": {
        "id": "ym_ec0yDt1SI",
        "colab_type": "code",
        "colab": {}
      },
      "source": [
        "import urllib\n",
        "f=urllib.urlretrieve(\"https://www.ccel.org/ccel/bible/kjv.txt\",\"bible\")\n",
        "text_file = sc.textFile(data_file)\n",
        "lines = text_file.map(lambda line: line) \n",
        "lines.take(20)"
      ],
      "execution_count": 0,
      "outputs": []
    },
    {
      "cell_type": "markdown",
      "metadata": {
        "id": "W8dnzpSUt1SJ",
        "colab_type": "text"
      },
      "source": [
        "\n",
        "___\n",
        "___\n",
        "___\n",
        "\n",
        "# Filter Example"
      ]
    },
    {
      "cell_type": "code",
      "metadata": {
        "id": "aVpHViqwt1SK",
        "colab_type": "code",
        "colab": {}
      },
      "source": [
        "import urllib\n",
        "urllib.urlretrieve(\"https://www.ccel.org/ccel/bible/kjv.txt\",\"bible\")\n",
        "data_file = \"./bible\"\n",
        "text_file = sc.textFile(data_file)\n",
        "lines = text_file.filter(lambda line: 'and' in line) \n",
        "lines.take(20)"
      ],
      "execution_count": 0,
      "outputs": []
    },
    {
      "cell_type": "code",
      "metadata": {
        "id": "_fErZ1SNt1SO",
        "colab_type": "code",
        "colab": {}
      },
      "source": [
        ""
      ],
      "execution_count": 0,
      "outputs": []
    },
    {
      "cell_type": "code",
      "metadata": {
        "id": "6VL_arA54uEZ",
        "colab_type": "code",
        "colab": {}
      },
      "source": [
        "\n"
      ],
      "execution_count": 0,
      "outputs": []
    },
    {
      "cell_type": "code",
      "metadata": {
        "id": "qtJTOTZ644l-",
        "colab_type": "code",
        "colab": {}
      },
      "source": [
        ""
      ],
      "execution_count": 0,
      "outputs": []
    },
    {
      "cell_type": "code",
      "metadata": {
        "id": "dz1EqZwB459t",
        "colab_type": "code",
        "colab": {}
      },
      "source": [
        ""
      ],
      "execution_count": 0,
      "outputs": []
    },
    {
      "cell_type": "code",
      "metadata": {
        "id": "nAfeeKml5AVL",
        "colab_type": "code",
        "colab": {}
      },
      "source": [
        ""
      ],
      "execution_count": 0,
      "outputs": []
    },
    {
      "cell_type": "code",
      "metadata": {
        "id": "Q9bY61jYJNZN",
        "colab_type": "code",
        "colab": {}
      },
      "source": [
        ""
      ],
      "execution_count": 0,
      "outputs": []
    }
  ]
}
